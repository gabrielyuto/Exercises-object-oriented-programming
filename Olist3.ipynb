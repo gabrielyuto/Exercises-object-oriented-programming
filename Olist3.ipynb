{
  "cells": [
    {
      "cell_type": "markdown",
      "metadata": {
        "id": "view-in-github",
        "colab_type": "text"
      },
      "source": [
        "<a href=\"https://colab.research.google.com/github/gabrielyuto/Exercises-object-oriented-programming/blob/master/Olist3.ipynb\" target=\"_parent\"><img src=\"https://colab.research.google.com/assets/colab-badge.svg\" alt=\"Open In Colab\"/></a>"
      ]
    },
    {
      "cell_type": "markdown",
      "source": [
        "# Instalação de pacotes\n",
        "\n",
        "Vamos instalar os pacotes:\n",
        "\n",
        "- `geopy`  (cálculo de distâncias entre coordenadas)\n",
        "- `umap-learn` (redução da dimensionalidade usando o método umap)\n",
        "- `kneed` para plotar o gráfico do cotovelo e achar o ponto\n"
      ],
      "metadata": {
        "id": "5znxycCKBGtp"
      },
      "id": "5znxycCKBGtp"
    },
    {
      "cell_type": "code",
      "execution_count": null,
      "metadata": {
        "id": "9zRwpJoB5WJQ",
        "colab": {
          "base_uri": "https://localhost:8080/"
        },
        "outputId": "d4a63a96-2774-435c-e3fa-e330e09bc150"
      },
      "outputs": [
        {
          "output_type": "stream",
          "name": "stdout",
          "text": [
            "Requirement already satisfied: geopy in /usr/local/lib/python3.10/dist-packages (2.3.0)\n",
            "Requirement already satisfied: geographiclib<3,>=1.52 in /usr/local/lib/python3.10/dist-packages (from geopy) (2.0)\n"
          ]
        }
      ],
      "source": [
        "!pip install geopy"
      ],
      "id": "9zRwpJoB5WJQ"
    },
    {
      "cell_type": "markdown",
      "source": [
        "# Dados\n",
        "\n",
        "Para agilizar o processo, eu coloquei a base de dados no endereço a seguir, assim podemos baixar diretamente, e evitamos a demora em fazer o upload. O `wget` é usado para baixar o arquivo, e o `unzip` para descompactar."
      ],
      "metadata": {
        "id": "NgOnf3m1Bp5w"
      },
      "id": "NgOnf3m1Bp5w"
    },
    {
      "cell_type": "code",
      "source": [
        "#!wget http://professor.ufabc.edu.br/~ronaldo.prati/archive.zip"
      ],
      "metadata": {
        "id": "X0pj1NaLtl6t"
      },
      "id": "X0pj1NaLtl6t",
      "execution_count": null,
      "outputs": []
    },
    {
      "cell_type": "code",
      "execution_count": null,
      "metadata": {
        "id": "4wpg-Pwz5Y6W"
      },
      "outputs": [],
      "source": [
        "#!unzip archive.zip"
      ],
      "id": "4wpg-Pwz5Y6W"
    },
    {
      "cell_type": "markdown",
      "source": [
        "Vamos agora refazer os passos da última aula, carregando os dados e unificando em um única tabela. Também convertemos os dados no formato data, calculamos a distância entre a origem e destino, e os tempos de entrega."
      ],
      "metadata": {
        "id": "ANkFCndrCD_7"
      },
      "id": "ANkFCndrCD_7"
    },
    {
      "cell_type": "code",
      "execution_count": null,
      "metadata": {
        "id": "eb13dd10-40d4-40f9-8a49-662b8a055f5b"
      },
      "outputs": [],
      "source": [
        "import pandas as pd\n",
        "import geopy.distance as gp\n",
        "import numpy as np"
      ],
      "id": "eb13dd10-40d4-40f9-8a49-662b8a055f5b"
    },
    {
      "cell_type": "markdown",
      "metadata": {
        "id": "58583fe0-23d2-4680-8d77-7f3f14dc47de"
      },
      "source": [
        "*Carregar* as bases de dados"
      ],
      "id": "58583fe0-23d2-4680-8d77-7f3f14dc47de"
    },
    {
      "cell_type": "code",
      "execution_count": null,
      "metadata": {
        "id": "2c0afb05-003f-45ed-bc0d-1ba8589cd93f"
      },
      "outputs": [],
      "source": [
        "df_item = pd.read_csv(\"olist_order_items_dataset.csv\")\n",
        "df_reviews = pd.read_csv(\"olist_order_reviews_dataset.csv\")\n",
        "df_orders = pd.read_csv(\"olist_orders_dataset.csv\")\n",
        "df_products = pd.read_csv(\"olist_products_dataset.csv\")\n",
        "df_geolocation = pd.read_csv(\"olist_geolocation_dataset.csv\")\n",
        "df_sellers = pd.read_csv(\"olist_sellers_dataset.csv\")\n",
        "df_order_pay = pd.read_csv(\"olist_order_payments_dataset.csv\")\n",
        "df_customers = pd.read_csv(\"olist_customers_dataset.csv\")\n",
        "df_category = pd.read_csv(\"product_category_name_translation.csv\")"
      ],
      "id": "2c0afb05-003f-45ed-bc0d-1ba8589cd93f"
    },
    {
      "cell_type": "markdown",
      "metadata": {
        "id": "e8eac3fc-5a3d-434d-89ff-0eeb4e87203f"
      },
      "source": [
        "Unir todos em uma única tabela"
      ],
      "id": "e8eac3fc-5a3d-434d-89ff-0eeb4e87203f"
    },
    {
      "cell_type": "code",
      "execution_count": null,
      "metadata": {
        "id": "1dda7f2f-8ceb-4250-86f4-4fa4dc0d41c7"
      },
      "outputs": [],
      "source": [
        "df = pd.merge(df_orders, df_item, on='order_id')\n",
        "df = pd.merge(df,df_products, on='product_id')\n",
        "df = pd.merge(df,df_sellers, on='seller_id')\n",
        "df = pd.merge(df,df_customers, on='customer_id')\n",
        "df = pd.merge(df,df_order_pay, on='order_id',how='right')\n",
        "df = pd.merge(df,df_reviews, on='order_id')"
      ],
      "id": "1dda7f2f-8ceb-4250-86f4-4fa4dc0d41c7"
    },
    {
      "cell_type": "code",
      "source": [
        "df.columns"
      ],
      "metadata": {
        "colab": {
          "base_uri": "https://localhost:8080/"
        },
        "id": "BHBpy7kNafmx",
        "outputId": "13ad44f1-2315-4b80-fcea-34056925ebcb"
      },
      "id": "BHBpy7kNafmx",
      "execution_count": null,
      "outputs": [
        {
          "output_type": "execute_result",
          "data": {
            "text/plain": [
              "Index(['order_id', 'customer_id', 'order_status', 'order_purchase_timestamp',\n",
              "       'order_approved_at', 'order_delivered_carrier_date',\n",
              "       'order_delivered_customer_date', 'order_estimated_delivery_date',\n",
              "       'order_item_id', 'product_id', 'seller_id', 'shipping_limit_date',\n",
              "       'price', 'freight_value', 'product_category_name',\n",
              "       'product_name_lenght', 'product_description_lenght',\n",
              "       'product_photos_qty', 'product_weight_g', 'product_length_cm',\n",
              "       'product_height_cm', 'product_width_cm', 'seller_zip_code_prefix',\n",
              "       'seller_city', 'seller_state', 'customer_unique_id',\n",
              "       'customer_zip_code_prefix', 'customer_city', 'customer_state',\n",
              "       'payment_sequential', 'payment_type', 'payment_installments',\n",
              "       'payment_value', 'review_id', 'review_score', 'review_comment_title',\n",
              "       'review_comment_message', 'review_creation_date',\n",
              "       'review_answer_timestamp'],\n",
              "      dtype='object')"
            ]
          },
          "metadata": {},
          "execution_count": 7
        }
      ]
    },
    {
      "cell_type": "markdown",
      "source": [
        "Nomes das colunas que envolvem data e hora"
      ],
      "metadata": {
        "id": "dB5aH44iCmSj"
      },
      "id": "dB5aH44iCmSj"
    },
    {
      "cell_type": "code",
      "execution_count": null,
      "metadata": {
        "id": "098d4fc4-8b21-4e2a-993c-fd754d21dcd0"
      },
      "outputs": [],
      "source": [
        "date_columns = ['order_purchase_timestamp','order_approved_at', 'order_delivered_carrier_date',\n",
        "                'order_delivered_customer_date', 'order_estimated_delivery_date', 'shipping_limit_date',\n",
        "                'review_creation_date', 'review_answer_timestamp']"
      ],
      "id": "098d4fc4-8b21-4e2a-993c-fd754d21dcd0"
    },
    {
      "cell_type": "markdown",
      "source": [
        "Faz a conversão dessas colunas para o format datetime"
      ],
      "metadata": {
        "id": "NtI-z7zvCrar"
      },
      "id": "NtI-z7zvCrar"
    },
    {
      "cell_type": "code",
      "execution_count": null,
      "metadata": {
        "id": "caaf59b6-c923-4335-9885-75a73f69aaf0"
      },
      "outputs": [],
      "source": [
        "df = df.assign(**df[date_columns].apply(pd.to_datetime))"
      ],
      "id": "caaf59b6-c923-4335-9885-75a73f69aaf0"
    },
    {
      "cell_type": "markdown",
      "source": [
        "Calcula o tempo de entrega, o tempo estimado, o tempo máximo de despacho, e o tempo de revisão da compra."
      ],
      "metadata": {
        "id": "HD2ENt0jCxbN"
      },
      "id": "HD2ENt0jCxbN"
    },
    {
      "cell_type": "code",
      "execution_count": null,
      "metadata": {
        "id": "db991fd3-9674-41fa-8131-7c0855f8523e"
      },
      "outputs": [],
      "source": [
        "df['deliver_time'] = df['order_delivered_customer_date'] - df['order_purchase_timestamp']\n",
        "df['deliver_estimate'] = df['order_estimated_delivery_date'] - df['order_purchase_timestamp']\n",
        "df['max_shipping_time'] = df['shipping_limit_date'] - df['order_purchase_timestamp']\n",
        "df['review_time'] = df['review_creation_date'] - df['order_delivered_customer_date']"
      ],
      "id": "db991fd3-9674-41fa-8131-7c0855f8523e"
    },
    {
      "cell_type": "markdown",
      "source": [
        "Calcula a distância entre a origem e o destino\n"
      ],
      "metadata": {
        "id": "jgHTrpdQC7Gv"
      },
      "id": "jgHTrpdQC7Gv"
    },
    {
      "cell_type": "code",
      "execution_count": null,
      "metadata": {
        "id": "7f601846-3e57-4dcf-bd6d-179a85698d0e"
      },
      "outputs": [],
      "source": [
        "df_geolocation = df_geolocation.drop_duplicates()"
      ],
      "id": "7f601846-3e57-4dcf-bd6d-179a85698d0e"
    },
    {
      "cell_type": "code",
      "execution_count": null,
      "metadata": {
        "colab": {
          "base_uri": "https://localhost:8080/"
        },
        "id": "1efd5d5c-83d2-4ec2-876f-499bcac24323",
        "outputId": "36bb233f-6219-4a5c-8343-36765dd66b74"
      },
      "outputs": [
        {
          "output_type": "stream",
          "name": "stderr",
          "text": [
            "<ipython-input-12-d3617efe8ef2>:1: FutureWarning: The default value of numeric_only in DataFrameGroupBy.mean is deprecated. In a future version, numeric_only will default to False. Either specify numeric_only or select only columns which should be valid for the function.\n",
            "  df_geo = df_geolocation.groupby('geolocation_zip_code_prefix').mean()\n"
          ]
        }
      ],
      "source": [
        "df_geo = df_geolocation.groupby('geolocation_zip_code_prefix').mean()"
      ],
      "id": "1efd5d5c-83d2-4ec2-876f-499bcac24323"
    },
    {
      "cell_type": "code",
      "execution_count": null,
      "metadata": {
        "id": "45770f79-2ea1-4878-93f5-68e7fcf7f6e9"
      },
      "outputs": [],
      "source": [
        "def geo_dist_zip(seller_zip_code_prefix, customer_zip_code_prefix):\n",
        "    try:\n",
        "        coord_seller = list(df_geo.loc[seller_zip_code_prefix])\n",
        "        coord_customer = list(df_geo.loc[customer_zip_code_prefix])\n",
        "        return gp.geodesic(coord_seller,coord_customer).km\n",
        "    except:\n",
        "        return"
      ],
      "id": "45770f79-2ea1-4878-93f5-68e7fcf7f6e9"
    },
    {
      "cell_type": "code",
      "execution_count": null,
      "metadata": {
        "id": "0a278779-75c1-4e2c-a3ac-46a4e27302f3"
      },
      "outputs": [],
      "source": [
        "df['distance'] = df.apply(lambda x: geo_dist_zip(x['seller_zip_code_prefix'],x['customer_zip_code_prefix']),axis=1)"
      ],
      "id": "0a278779-75c1-4e2c-a3ac-46a4e27302f3"
    },
    {
      "cell_type": "markdown",
      "source": [
        "Vamos fazer olhar os atributos numéricos da base de dados. A lista a seguir contém esses atributos."
      ],
      "metadata": {
        "id": "HYUsSUBeEK9_"
      },
      "id": "HYUsSUBeEK9_"
    },
    {
      "cell_type": "code",
      "execution_count": null,
      "metadata": {
        "id": "dd44849f-8c66-4804-a45f-b3a10b37196c"
      },
      "outputs": [],
      "source": [
        "columns = ['price', 'freight_value', 'product_name_lenght', 'product_description_lenght',\n",
        "       'product_photos_qty', 'product_weight_g', 'product_length_cm',\n",
        "       'product_height_cm', 'product_width_cm', 'payment_installments', 'payment_value', 'distance', 'deliver_time',\n",
        "       'deliver_estimate', 'max_shipping_time', 'review_time']"
      ],
      "id": "dd44849f-8c66-4804-a45f-b3a10b37196c"
    },
    {
      "cell_type": "markdown",
      "source": [
        "Finalmente, vamos converter os atributos de tempo de entraga para um valor numérico"
      ],
      "metadata": {
        "id": "3YqLkxOMEZz8"
      },
      "id": "3YqLkxOMEZz8"
    },
    {
      "cell_type": "code",
      "execution_count": null,
      "metadata": {
        "id": "f30c931b-31e9-49fe-9735-b3b392e325d9"
      },
      "outputs": [],
      "source": [
        "df = df.assign(**df[['deliver_time','deliver_estimate',\n",
        "                     'max_shipping_time', 'review_time']].apply(lambda x: x.dt.total_seconds()/(24*60*60)))"
      ],
      "id": "f30c931b-31e9-49fe-9735-b3b392e325d9"
    },
    {
      "cell_type": "markdown",
      "source": [
        "# Coluna a ser predita\n",
        "\n",
        "Vamos tentar criar um modelo para prever o `review_score` de cada compra. Vamos tratar como um problema binário, e vamos criar uma nova coluna com o valor `1` se o `review_score` é maior que três, e o valor `0` caso contrário.:"
      ],
      "metadata": {
        "id": "kTYGPuK9We3P"
      },
      "id": "kTYGPuK9We3P"
    },
    {
      "cell_type": "code",
      "source": [
        "df['review_score_binary'] =  df['review_score'].apply(lambda x: 1 if x > 3 else 0)"
      ],
      "metadata": {
        "id": "vHgNcYIpVvzK"
      },
      "id": "vHgNcYIpVvzK",
      "execution_count": null,
      "outputs": []
    },
    {
      "cell_type": "code",
      "source": [
        "df['review_score_binary'].value_counts().plot(kind='bar')"
      ],
      "metadata": {
        "colab": {
          "base_uri": "https://localhost:8080/",
          "height": 442
        },
        "id": "x7k5AZWoYu6p",
        "outputId": "126ad7f9-28b7-42d9-8930-52610294ef23"
      },
      "id": "x7k5AZWoYu6p",
      "execution_count": null,
      "outputs": [
        {
          "output_type": "execute_result",
          "data": {
            "text/plain": [
              "<Axes: >"
            ]
          },
          "metadata": {},
          "execution_count": 18
        },
        {
          "output_type": "display_data",
          "data": {
            "text/plain": [
              "<Figure size 640x480 with 1 Axes>"
            ],
            "image/png": "[encoded data removed]"
          },
          "metadata": {}
        }
      ]
    },
    {
      "cell_type": "markdown",
      "source": [
        "Agora vamos selecionar somente os dados completos para as colunas que vamos usar para fazer o modelo. Além disso, vamos separar os atributos alvos e os atributos preditores:"
      ],
      "metadata": {
        "id": "H1lUqxkHJywW"
      },
      "id": "H1lUqxkHJywW"
    },
    {
      "cell_type": "code",
      "execution_count": null,
      "metadata": {
        "id": "2d8ef94b-516b-44ec-92a9-715c25d18559"
      },
      "outputs": [],
      "source": [
        "data = df[columns + ['review_score_binary']].dropna(axis = 0, how = 'any')\n",
        "X = data[columns]\n",
        "Y = data['review_score_binary']"
      ],
      "id": "2d8ef94b-516b-44ec-92a9-715c25d18559"
    },
    {
      "cell_type": "markdown",
      "source": [
        "Vamos iniciar com árvore de decisão. Além do algoritmo de árvore de decisão, vamos importar também os métodos para fazer a validação cruzada, mostrar um relatório de classificação, e também o GridSearchCV, que é usado para avaliar vários parâmetros e comparar modelos."
      ],
      "metadata": {
        "id": "XLHd5B3DKEw9"
      },
      "id": "XLHd5B3DKEw9"
    },
    {
      "cell_type": "code",
      "source": [
        "from sklearn.tree import DecisionTreeClassifier\n",
        "from sklearn.model_selection import KFold\n",
        "from sklearn.metrics import classification_report\n",
        "from sklearn.model_selection import GridSearchCV"
      ],
      "metadata": {
        "id": "vD1aVeklaUsD"
      },
      "id": "vD1aVeklaUsD",
      "execution_count": null,
      "outputs": []
    },
    {
      "cell_type": "markdown",
      "source": [
        "Inicialmente vamos declar o algoritmo da árvore de decisão sem nenhum parâmetro:"
      ],
      "metadata": {
        "id": "SFaC9DC6KkNr"
      },
      "id": "SFaC9DC6KkNr"
    },
    {
      "cell_type": "code",
      "source": [
        "dt = DecisionTreeClassifier()"
      ],
      "metadata": {
        "id": "BBzplEYwcMfO"
      },
      "id": "BBzplEYwcMfO",
      "execution_count": null,
      "outputs": []
    },
    {
      "cell_type": "markdown",
      "source": [
        "Vamos agora fazer uma validação cruzada com 2 divisões. Cada divisão gera um subconjunto dos dados, que usamos para treinar e depois testar. Como estamos usando 2 divisões, os papeis em cada um deles é invertido a cada iteração"
      ],
      "metadata": {
        "id": "LNtZW0OZKsSf"
      },
      "id": "LNtZW0OZKsSf"
    },
    {
      "cell_type": "code",
      "source": [
        "kf = KFold(n_splits=2)\n",
        "for train, test in kf.split(X):\n",
        "  dt.fit(X.iloc[train],Y.iloc[train])\n",
        "  predictions = dt.predict(X.iloc[test])\n",
        "  print(classification_report(Y.iloc[test], predictions))"
      ],
      "metadata": {
        "colab": {
          "base_uri": "https://localhost:8080/"
        },
        "id": "_MFyzSjgg9F8",
        "outputId": "373ebaed-eca2-4c66-8513-fd9614852391"
      },
      "id": "_MFyzSjgg9F8",
      "execution_count": null,
      "outputs": [
        {
          "output_type": "stream",
          "name": "stdout",
          "text": [
            "              precision    recall  f1-score   support\n",
            "\n",
            "           0       0.34      0.37      0.36     13171\n",
            "           1       0.80      0.78      0.79     43167\n",
            "\n",
            "    accuracy                           0.69     56338\n",
            "   macro avg       0.57      0.58      0.58     56338\n",
            "weighted avg       0.70      0.69      0.69     56338\n",
            "\n",
            "              precision    recall  f1-score   support\n",
            "\n",
            "           0       0.34      0.38      0.36     12954\n",
            "           1       0.81      0.78      0.80     43383\n",
            "\n",
            "    accuracy                           0.69     56337\n",
            "   macro avg       0.57      0.58      0.58     56337\n",
            "weighted avg       0.70      0.69      0.69     56337\n",
            "\n"
          ]
        }
      ]
    },
    {
      "cell_type": "markdown",
      "source": [
        "Como vimos em aula, temos vários critérios para construir a árvore. Vamos usar o `GridSearchCV` para fazer uma comparação, utilizando validação cruzada, dos diferentes critérios de split presentes no `sklearn`. Além disso, vamos calcular três diferentes medidas de desempenho: AUC, F1 e acurácia."
      ],
      "metadata": {
        "id": "DmcDCwEqK9H1"
      },
      "id": "DmcDCwEqK9H1"
    },
    {
      "cell_type": "code",
      "source": [
        "parameters = {'criterion':('gini', 'entropy', 'log_loss')}\n",
        "kf = KFold(n_splits=3)\n",
        "\n",
        "grid_search = GridSearchCV(\n",
        "        estimator=dt,\n",
        "        param_grid=parameters,\n",
        "        scoring = {\"AUC\": \"roc_auc\", \"F-measure\": \"f1\", \"Accuracy\": \"accuracy\"},\n",
        "        return_train_score=False,\n",
        "        cv=kf,\n",
        "        refit=False\n",
        "    ).fit(X,Y)"
      ],
      "metadata": {
        "id": "TfGCNr5roQrP"
      },
      "id": "TfGCNr5roQrP",
      "execution_count": null,
      "outputs": []
    },
    {
      "cell_type": "markdown",
      "source": [
        "Os resultados das iterações estão armazenados em `cv_results_`. Vamos extrair alguns deles para ver o comparativo dos resultados do arquivo de teste. Na célula abaixo, selecionamos a média e o desvio padrão das $k$ execuções do $k$-fold das três medidas para cada critério de poda."
      ],
      "metadata": {
        "id": "efGnBANrNCqU"
      },
      "id": "efGnBANrNCqU"
    },
    {
      "cell_type": "code",
      "source": [
        "results_dt = pd.DataFrame({ 'params' :  [v['criterion'] for v in grid_search.cv_results_['params']] ,\n",
        "  'mean_test_AUC' :  grid_search.cv_results_['mean_test_AUC'],\n",
        "  'mean_test_F-measure' :  grid_search.cv_results_['mean_test_F-measure'],\n",
        "  'mean_test_Accuracy' :  grid_search.cv_results_['mean_test_Accuracy'],\n",
        "  'std_test_AUC' :  grid_search.cv_results_['std_test_AUC'],\n",
        "  'std_test_F-measure' :  grid_search.cv_results_['std_test_F-measure'],\n",
        "  'std_test_Accuracy' :  grid_search.cv_results_['std_test_Accuracy']})"
      ],
      "metadata": {
        "id": "R73QPCfq57t8"
      },
      "id": "R73QPCfq57t8",
      "execution_count": null,
      "outputs": []
    },
    {
      "cell_type": "markdown",
      "source": [
        "A tabela de resultados fica assim:"
      ],
      "metadata": {
        "id": "5nOXV-3ZN8JC"
      },
      "id": "5nOXV-3ZN8JC"
    },
    {
      "cell_type": "code",
      "source": [
        "results_dt"
      ],
      "metadata": {
        "colab": {
          "base_uri": "https://localhost:8080/",
          "height": 143
        },
        "id": "iVynuHMa8O_9",
        "outputId": "922c63b1-f7c9-4017-e920-7376c65d45f0"
      },
      "id": "iVynuHMa8O_9",
      "execution_count": null,
      "outputs": [
        {
          "output_type": "execute_result",
          "data": {
            "text/plain": [
              "     params  mean_test_AUC  mean_test_F-measure  mean_test_Accuracy  \\\n",
              "0      gini       0.583492             0.797354            0.692691   \n",
              "1   entropy       0.581850             0.802038            0.697537   \n",
              "2  log_loss       0.581697             0.801922            0.697386   \n",
              "\n",
              "   std_test_AUC  std_test_F-measure  std_test_Accuracy  \n",
              "0      0.002192            0.002604           0.003121  \n",
              "1      0.003080            0.000940           0.001632  \n",
              "2      0.003437            0.002332           0.003274  "
            ],
            "text/html": [
              "\n",
              "\n",
              "  <div id=\"df-2b28ff6a-fe2a-4cf1-90ce-28449da50ae0\">\n",
              "    <div class=\"colab-df-container\">\n",
              "      <div>\n",
              "<style scoped>\n",
              "    .dataframe tbody tr th:only-of-type {\n",
              "        vertical-align: middle;\n",
              "    }\n",
              "\n",
              "    .dataframe tbody tr th {\n",
              "        vertical-align: top;\n",
              "    }\n",
              "\n",
              "    .dataframe thead th {\n",
              "        text-align: right;\n",
              "    }\n",
              "</style>\n",
              "<table border=\"1\" class=\"dataframe\">\n",
              "  <thead>\n",
              "    <tr style=\"text-align: right;\">\n",
              "      <th></th>\n",
              "      <th>params</th>\n",
              "      <th>mean_test_AUC</th>\n",
              "      <th>mean_test_F-measure</th>\n",
              "      <th>mean_test_Accuracy</th>\n",
              "      <th>std_test_AUC</th>\n",
              "      <th>std_test_F-measure</th>\n",
              "      <th>std_test_Accuracy</th>\n",
              "    </tr>\n",
              "  </thead>\n",
              "  <tbody>\n",
              "    <tr>\n",
              "      <th>0</th>\n",
              "      <td>gini</td>\n",
              "      <td>0.583492</td>\n",
              "      <td>0.797354</td>\n",
              "      <td>0.692691</td>\n",
              "      <td>0.002192</td>\n",
              "      <td>0.002604</td>\n",
              "      <td>0.003121</td>\n",
              "    </tr>\n",
              "    <tr>\n",
              "      <th>1</th>\n",
              "      <td>entropy</td>\n",
              "      <td>0.581850</td>\n",
              "      <td>0.802038</td>\n",
              "      <td>0.697537</td>\n",
              "      <td>0.003080</td>\n",
              "      <td>0.000940</td>\n",
              "      <td>0.001632</td>\n",
              "    </tr>\n",
              "    <tr>\n",
              "      <th>2</th>\n",
              "      <td>log_loss</td>\n",
              "      <td>0.581697</td>\n",
              "      <td>0.801922</td>\n",
              "      <td>0.697386</td>\n",
              "      <td>0.003437</td>\n",
              "      <td>0.002332</td>\n",
              "      <td>0.003274</td>\n",
              "    </tr>\n",
              "  </tbody>\n",
              "</table>\n",
              "</div>\n",
              "      <button class=\"colab-df-convert\" onclick=\"convertToInteractive('df-2b28ff6a-fe2a-4cf1-90ce-28449da50ae0')\"\n",
              "              title=\"Convert this dataframe to an interactive table.\"\n",
              "              style=\"display:none;\">\n",
              "\n",
              "  <svg xmlns=\"http://www.w3.org/2000/svg\" height=\"24px\"viewBox=\"0 0 24 24\"\n",
              "       width=\"24px\">\n",
              "    <path d=\"M0 0h24v24H0V0z\" fill=\"none\"/>\n",
              "    <path d=\"M18.56 5.44l.94 2.06.94-2.06 2.06-.94-2.06-.94-.94-2.06-.94 2.06-2.06.94zm-11 1L8.5 8.5l.94-2.06 2.06-.94-2.06-.94L8.5 2.5l-.94 2.06-2.06.94zm10 10l.94 2.06.94-2.06 2.06-.94-2.06-.94-.94-2.06-.94 2.06-2.06.94z\"/><path d=\"M17.41 7.96l-1.37-1.37c-.4-.4-.92-.59-1.43-.59-.52 0-1.04.2-1.43.59L10.3 9.45l-7.72 7.72c-.78.78-.78 2.05 0 2.83L4 21.41c.39.39.9.59 1.41.59.51 0 1.02-.2 1.41-.59l7.78-7.78 2.81-2.81c.8-.78.8-2.07 0-2.86zM5.41 20L4 18.59l7.72-7.72 1.47 1.35L5.41 20z\"/>\n",
              "  </svg>\n",
              "      </button>\n",
              "\n",
              "\n",
              "\n",
              "    <div id=\"df-349bf1ab-bad5-4954-82eb-af11fe986c06\">\n",
              "      <button class=\"colab-df-quickchart\" onclick=\"quickchart('df-349bf1ab-bad5-4954-82eb-af11fe986c06')\"\n",
              "              title=\"Suggest charts.\"\n",
              "              style=\"display:none;\">\n",
              "\n",
              "<svg xmlns=\"http://www.w3.org/2000/svg\" height=\"24px\"viewBox=\"0 0 24 24\"\n",
              "     width=\"24px\">\n",
              "    <g>\n",
              "        <path d=\"M19 3H5c-1.1 0-2 .9-2 2v14c0 1.1.9 2 2 2h14c1.1 0 2-.9 2-2V5c0-1.1-.9-2-2-2zM9 17H7v-7h2v7zm4 0h-2V7h2v10zm4 0h-2v-4h2v4z\"/>\n",
              "    </g>\n",
              "</svg>\n",
              "      </button>\n",
              "    </div>\n",
              "\n",
              "<style>\n",
              "  .colab-df-quickchart {\n",
              "    background-color: #E8F0FE;\n",
              "    border: none;\n",
              "    border-radius: 50%;\n",
              "    cursor: pointer;\n",
              "    display: none;\n",
              "    fill: #1967D2;\n",
              "    height: 32px;\n",
              "    padding: 0 0 0 0;\n",
              "    width: 32px;\n",
              "  }\n",
              "\n",
              "  .colab-df-quickchart:hover {\n",
              "    background-color: #E2EBFA;\n",
              "    box-shadow: 0px 1px 2px rgba(60, 64, 67, 0.3), 0px 1px 3px 1px rgba(60, 64, 67, 0.15);\n",
              "    fill: #174EA6;\n",
              "  }\n",
              "\n",
              "  [theme=dark] .colab-df-quickchart {\n",
              "    background-color: #3B4455;\n",
              "    fill: #D2E3FC;\n",
              "  }\n",
              "\n",
              "  [theme=dark] .colab-df-quickchart:hover {\n",
              "    background-color: #434B5C;\n",
              "    box-shadow: 0px 1px 3px 1px rgba(0, 0, 0, 0.15);\n",
              "    filter: drop-shadow(0px 1px 2px rgba(0, 0, 0, 0.3));\n",
              "    fill: #FFFFFF;\n",
              "  }\n",
              "</style>\n",
              "\n",
              "    <script>\n",
              "      async function quickchart(key) {\n",
              "        const containerElement = document.querySelector('#' + key);\n",
              "        const charts = await google.colab.kernel.invokeFunction(\n",
              "            'suggestCharts', [key], {});\n",
              "      }\n",
              "    </script>\n",
              "\n",
              "      <script>\n",
              "\n",
              "function displayQuickchartButton(domScope) {\n",
              "  let quickchartButtonEl =\n",
              "    domScope.querySelector('#df-349bf1ab-bad5-4954-82eb-af11fe986c06 button.colab-df-quickchart');\n",
              "  quickchartButtonEl.style.display =\n",
              "    google.colab.kernel.accessAllowed ? 'block' : 'none';\n",
              "}\n",
              "\n",
              "        displayQuickchartButton(document);\n",
              "      </script>\n",
              "      <style>\n",
              "    .colab-df-container {\n",
              "      display:flex;\n",
              "      flex-wrap:wrap;\n",
              "      gap: 12px;\n",
              "    }\n",
              "\n",
              "    .colab-df-convert {\n",
              "      background-color: #E8F0FE;\n",
              "      border: none;\n",
              "      border-radius: 50%;\n",
              "      cursor: pointer;\n",
              "      display: none;\n",
              "      fill: #1967D2;\n",
              "      height: 32px;\n",
              "      padding: 0 0 0 0;\n",
              "      width: 32px;\n",
              "    }\n",
              "\n",
              "    .colab-df-convert:hover {\n",
              "      background-color: #E2EBFA;\n",
              "      box-shadow: 0px 1px 2px rgba(60, 64, 67, 0.3), 0px 1px 3px 1px rgba(60, 64, 67, 0.15);\n",
              "      fill: #174EA6;\n",
              "    }\n",
              "\n",
              "    [theme=dark] .colab-df-convert {\n",
              "      background-color: #3B4455;\n",
              "      fill: #D2E3FC;\n",
              "    }\n",
              "\n",
              "    [theme=dark] .colab-df-convert:hover {\n",
              "      background-color: #434B5C;\n",
              "      box-shadow: 0px 1px 3px 1px rgba(0, 0, 0, 0.15);\n",
              "      filter: drop-shadow(0px 1px 2px rgba(0, 0, 0, 0.3));\n",
              "      fill: #FFFFFF;\n",
              "    }\n",
              "  </style>\n",
              "\n",
              "      <script>\n",
              "        const buttonEl =\n",
              "          document.querySelector('#df-2b28ff6a-fe2a-4cf1-90ce-28449da50ae0 button.colab-df-convert');\n",
              "        buttonEl.style.display =\n",
              "          google.colab.kernel.accessAllowed ? 'block' : 'none';\n",
              "\n",
              "        async function convertToInteractive(key) {\n",
              "          const element = document.querySelector('#df-2b28ff6a-fe2a-4cf1-90ce-28449da50ae0');\n",
              "          const dataTable =\n",
              "            await google.colab.kernel.invokeFunction('convertToInteractive',\n",
              "                                                     [key], {});\n",
              "          if (!dataTable) return;\n",
              "\n",
              "          const docLinkHtml = 'Like what you see? Visit the ' +\n",
              "            '<a target=\"_blank\" href=https://colab.research.google.com/notebooks/data_table.ipynb>data table notebook</a>'\n",
              "            + ' to learn more about interactive tables.';\n",
              "          element.innerHTML = '';\n",
              "          dataTable['output_type'] = 'display_data';\n",
              "          await google.colab.output.renderOutput(dataTable, element);\n",
              "          const docLink = document.createElement('div');\n",
              "          docLink.innerHTML = docLinkHtml;\n",
              "          element.appendChild(docLink);\n",
              "        }\n",
              "      </script>\n",
              "    </div>\n",
              "  </div>\n"
            ]
          },
          "metadata": {},
          "execution_count": 25
        }
      ]
    },
    {
      "cell_type": "markdown",
      "source": [
        "Vamos reorganizar a tabela para que fique mais legível. A função `melt` transforma a tebela de formato largo para o longo"
      ],
      "metadata": {
        "id": "iHhjj8WSOCLg"
      },
      "id": "iHhjj8WSOCLg"
    },
    {
      "cell_type": "code",
      "source": [
        "results_dt = pd.melt(results_dt,id_vars=['params'])"
      ],
      "metadata": {
        "id": "LG06LJj257z2"
      },
      "id": "LG06LJj257z2",
      "execution_count": null,
      "outputs": []
    },
    {
      "cell_type": "code",
      "source": [
        "results_dt"
      ],
      "metadata": {
        "colab": {
          "base_uri": "https://localhost:8080/",
          "height": 614
        },
        "id": "yhtwY0r4BKkJ",
        "outputId": "e802d044-878a-4b9e-cef1-1b6160662677"
      },
      "id": "yhtwY0r4BKkJ",
      "execution_count": null,
      "outputs": [
        {
          "output_type": "execute_result",
          "data": {
            "text/plain": [
              "      params             variable     value\n",
              "0       gini        mean_test_AUC  0.583492\n",
              "1    entropy        mean_test_AUC  0.581850\n",
              "2   log_loss        mean_test_AUC  0.581697\n",
              "3       gini  mean_test_F-measure  0.797354\n",
              "4    entropy  mean_test_F-measure  0.802038\n",
              "5   log_loss  mean_test_F-measure  0.801922\n",
              "6       gini   mean_test_Accuracy  0.692691\n",
              "7    entropy   mean_test_Accuracy  0.697537\n",
              "8   log_loss   mean_test_Accuracy  0.697386\n",
              "9       gini         std_test_AUC  0.002192\n",
              "10   entropy         std_test_AUC  0.003080\n",
              "11  log_loss         std_test_AUC  0.003437\n",
              "12      gini   std_test_F-measure  0.002604\n",
              "13   entropy   std_test_F-measure  0.000940\n",
              "14  log_loss   std_test_F-measure  0.002332\n",
              "15      gini    std_test_Accuracy  0.003121\n",
              "16   entropy    std_test_Accuracy  0.001632\n",
              "17  log_loss    std_test_Accuracy  0.003274"
            ],
            "text/html": [
              "\n",
              "\n",
              "  <div id=\"df-aa5c8e09-d38a-4683-a4eb-f12ba660dc4a\">\n",
              "    <div class=\"colab-df-container\">\n",
              "      <div>\n",
              "<style scoped>\n",
              "    .dataframe tbody tr th:only-of-type {\n",
              "        vertical-align: middle;\n",
              "    }\n",
              "\n",
              "    .dataframe tbody tr th {\n",
              "        vertical-align: top;\n",
              "    }\n",
              "\n",
              "    .dataframe thead th {\n",
              "        text-align: right;\n",
              "    }\n",
              "</style>\n",
              "<table border=\"1\" class=\"dataframe\">\n",
              "  <thead>\n",
              "    <tr style=\"text-align: right;\">\n",
              "      <th></th>\n",
              "      <th>params</th>\n",
              "      <th>variable</th>\n",
              "      <th>value</th>\n",
              "    </tr>\n",
              "  </thead>\n",
              "  <tbody>\n",
              "    <tr>\n",
              "      <th>0</th>\n",
              "      <td>gini</td>\n",
              "      <td>mean_test_AUC</td>\n",
              "      <td>0.583492</td>\n",
              "    </tr>\n",
              "    <tr>\n",
              "      <th>1</th>\n",
              "      <td>entropy</td>\n",
              "      <td>mean_test_AUC</td>\n",
              "      <td>0.581850</td>\n",
              "    </tr>\n",
              "    <tr>\n",
              "      <th>2</th>\n",
              "      <td>log_loss</td>\n",
              "      <td>mean_test_AUC</td>\n",
              "      <td>0.581697</td>\n",
              "    </tr>\n",
              "    <tr>\n",
              "      <th>3</th>\n",
              "      <td>gini</td>\n",
              "      <td>mean_test_F-measure</td>\n",
              "      <td>0.797354</td>\n",
              "    </tr>\n",
              "    <tr>\n",
              "      <th>4</th>\n",
              "      <td>entropy</td>\n",
              "      <td>mean_test_F-measure</td>\n",
              "      <td>0.802038</td>\n",
              "    </tr>\n",
              "    <tr>\n",
              "      <th>5</th>\n",
              "      <td>log_loss</td>\n",
              "      <td>mean_test_F-measure</td>\n",
              "      <td>0.801922</td>\n",
              "    </tr>\n",
              "    <tr>\n",
              "      <th>6</th>\n",
              "      <td>gini</td>\n",
              "      <td>mean_test_Accuracy</td>\n",
              "      <td>0.692691</td>\n",
              "    </tr>\n",
              "    <tr>\n",
              "      <th>7</th>\n",
              "      <td>entropy</td>\n",
              "      <td>mean_test_Accuracy</td>\n",
              "      <td>0.697537</td>\n",
              "    </tr>\n",
              "    <tr>\n",
              "      <th>8</th>\n",
              "      <td>log_loss</td>\n",
              "      <td>mean_test_Accuracy</td>\n",
              "      <td>0.697386</td>\n",
              "    </tr>\n",
              "    <tr>\n",
              "      <th>9</th>\n",
              "      <td>gini</td>\n",
              "      <td>std_test_AUC</td>\n",
              "      <td>0.002192</td>\n",
              "    </tr>\n",
              "    <tr>\n",
              "      <th>10</th>\n",
              "      <td>entropy</td>\n",
              "      <td>std_test_AUC</td>\n",
              "      <td>0.003080</td>\n",
              "    </tr>\n",
              "    <tr>\n",
              "      <th>11</th>\n",
              "      <td>log_loss</td>\n",
              "      <td>std_test_AUC</td>\n",
              "      <td>0.003437</td>\n",
              "    </tr>\n",
              "    <tr>\n",
              "      <th>12</th>\n",
              "      <td>gini</td>\n",
              "      <td>std_test_F-measure</td>\n",
              "      <td>0.002604</td>\n",
              "    </tr>\n",
              "    <tr>\n",
              "      <th>13</th>\n",
              "      <td>entropy</td>\n",
              "      <td>std_test_F-measure</td>\n",
              "      <td>0.000940</td>\n",
              "    </tr>\n",
              "    <tr>\n",
              "      <th>14</th>\n",
              "      <td>log_loss</td>\n",
              "      <td>std_test_F-measure</td>\n",
              "      <td>0.002332</td>\n",
              "    </tr>\n",
              "    <tr>\n",
              "      <th>15</th>\n",
              "      <td>gini</td>\n",
              "      <td>std_test_Accuracy</td>\n",
              "      <td>0.003121</td>\n",
              "    </tr>\n",
              "    <tr>\n",
              "      <th>16</th>\n",
              "      <td>entropy</td>\n",
              "      <td>std_test_Accuracy</td>\n",
              "      <td>0.001632</td>\n",
              "    </tr>\n",
              "    <tr>\n",
              "      <th>17</th>\n",
              "      <td>log_loss</td>\n",
              "      <td>std_test_Accuracy</td>\n",
              "      <td>0.003274</td>\n",
              "    </tr>\n",
              "  </tbody>\n",
              "</table>\n",
              "</div>\n",
              "      <button class=\"colab-df-convert\" onclick=\"convertToInteractive('df-aa5c8e09-d38a-4683-a4eb-f12ba660dc4a')\"\n",
              "              title=\"Convert this dataframe to an interactive table.\"\n",
              "              style=\"display:none;\">\n",
              "\n",
              "  <svg xmlns=\"http://www.w3.org/2000/svg\" height=\"24px\"viewBox=\"0 0 24 24\"\n",
              "       width=\"24px\">\n",
              "    <path d=\"M0 0h24v24H0V0z\" fill=\"none\"/>\n",
              "    <path d=\"M18.56 5.44l.94 2.06.94-2.06 2.06-.94-2.06-.94-.94-2.06-.94 2.06-2.06.94zm-11 1L8.5 8.5l.94-2.06 2.06-.94-2.06-.94L8.5 2.5l-.94 2.06-2.06.94zm10 10l.94 2.06.94-2.06 2.06-.94-2.06-.94-.94-2.06-.94 2.06-2.06.94z\"/><path d=\"M17.41 7.96l-1.37-1.37c-.4-.4-.92-.59-1.43-.59-.52 0-1.04.2-1.43.59L10.3 9.45l-7.72 7.72c-.78.78-.78 2.05 0 2.83L4 21.41c.39.39.9.59 1.41.59.51 0 1.02-.2 1.41-.59l7.78-7.78 2.81-2.81c.8-.78.8-2.07 0-2.86zM5.41 20L4 18.59l7.72-7.72 1.47 1.35L5.41 20z\"/>\n",
              "  </svg>\n",
              "      </button>\n",
              "\n",
              "\n",
              "\n",
              "    <div id=\"df-f17af875-3cdc-4106-a8d6-0a1261f6eeb0\">\n",
              "      <button class=\"colab-df-quickchart\" onclick=\"quickchart('df-f17af875-3cdc-4106-a8d6-0a1261f6eeb0')\"\n",
              "              title=\"Suggest charts.\"\n",
              "              style=\"display:none;\">\n",
              "\n",
              "<svg xmlns=\"http://www.w3.org/2000/svg\" height=\"24px\"viewBox=\"0 0 24 24\"\n",
              "     width=\"24px\">\n",
              "    <g>\n",
              "        <path d=\"M19 3H5c-1.1 0-2 .9-2 2v14c0 1.1.9 2 2 2h14c1.1 0 2-.9 2-2V5c0-1.1-.9-2-2-2zM9 17H7v-7h2v7zm4 0h-2V7h2v10zm4 0h-2v-4h2v4z\"/>\n",
              "    </g>\n",
              "</svg>\n",
              "      </button>\n",
              "    </div>\n",
              "\n",
              "<style>\n",
              "  .colab-df-quickchart {\n",
              "    background-color: #E8F0FE;\n",
              "    border: none;\n",
              "    border-radius: 50%;\n",
              "    cursor: pointer;\n",
              "    display: none;\n",
              "    fill: #1967D2;\n",
              "    height: 32px;\n",
              "    padding: 0 0 0 0;\n",
              "    width: 32px;\n",
              "  }\n",
              "\n",
              "  .colab-df-quickchart:hover {\n",
              "    background-color: #E2EBFA;\n",
              "    box-shadow: 0px 1px 2px rgba(60, 64, 67, 0.3), 0px 1px 3px 1px rgba(60, 64, 67, 0.15);\n",
              "    fill: #174EA6;\n",
              "  }\n",
              "\n",
              "  [theme=dark] .colab-df-quickchart {\n",
              "    background-color: #3B4455;\n",
              "    fill: #D2E3FC;\n",
              "  }\n",
              "\n",
              "  [theme=dark] .colab-df-quickchart:hover {\n",
              "    background-color: #434B5C;\n",
              "    box-shadow: 0px 1px 3px 1px rgba(0, 0, 0, 0.15);\n",
              "    filter: drop-shadow(0px 1px 2px rgba(0, 0, 0, 0.3));\n",
              "    fill: #FFFFFF;\n",
              "  }\n",
              "</style>\n",
              "\n",
              "    <script>\n",
              "      async function quickchart(key) {\n",
              "        const containerElement = document.querySelector('#' + key);\n",
              "        const charts = await google.colab.kernel.invokeFunction(\n",
              "            'suggestCharts', [key], {});\n",
              "      }\n",
              "    </script>\n",
              "\n",
              "      <script>\n",
              "\n",
              "function displayQuickchartButton(domScope) {\n",
              "  let quickchartButtonEl =\n",
              "    domScope.querySelector('#df-f17af875-3cdc-4106-a8d6-0a1261f6eeb0 button.colab-df-quickchart');\n",
              "  quickchartButtonEl.style.display =\n",
              "    google.colab.kernel.accessAllowed ? 'block' : 'none';\n",
              "}\n",
              "\n",
              "        displayQuickchartButton(document);\n",
              "      </script>\n",
              "      <style>\n",
              "    .colab-df-container {\n",
              "      display:flex;\n",
              "      flex-wrap:wrap;\n",
              "      gap: 12px;\n",
              "    }\n",
              "\n",
              "    .colab-df-convert {\n",
              "      background-color: #E8F0FE;\n",
              "      border: none;\n",
              "      border-radius: 50%;\n",
              "      cursor: pointer;\n",
              "      display: none;\n",
              "      fill: #1967D2;\n",
              "      height: 32px;\n",
              "      padding: 0 0 0 0;\n",
              "      width: 32px;\n",
              "    }\n",
              "\n",
              "    .colab-df-convert:hover {\n",
              "      background-color: #E2EBFA;\n",
              "      box-shadow: 0px 1px 2px rgba(60, 64, 67, 0.3), 0px 1px 3px 1px rgba(60, 64, 67, 0.15);\n",
              "      fill: #174EA6;\n",
              "    }\n",
              "\n",
              "    [theme=dark] .colab-df-convert {\n",
              "      background-color: #3B4455;\n",
              "      fill: #D2E3FC;\n",
              "    }\n",
              "\n",
              "    [theme=dark] .colab-df-convert:hover {\n",
              "      background-color: #434B5C;\n",
              "      box-shadow: 0px 1px 3px 1px rgba(0, 0, 0, 0.15);\n",
              "      filter: drop-shadow(0px 1px 2px rgba(0, 0, 0, 0.3));\n",
              "      fill: #FFFFFF;\n",
              "    }\n",
              "  </style>\n",
              "\n",
              "      <script>\n",
              "        const buttonEl =\n",
              "          document.querySelector('#df-aa5c8e09-d38a-4683-a4eb-f12ba660dc4a button.colab-df-convert');\n",
              "        buttonEl.style.display =\n",
              "          google.colab.kernel.accessAllowed ? 'block' : 'none';\n",
              "\n",
              "        async function convertToInteractive(key) {\n",
              "          const element = document.querySelector('#df-aa5c8e09-d38a-4683-a4eb-f12ba660dc4a');\n",
              "          const dataTable =\n",
              "            await google.colab.kernel.invokeFunction('convertToInteractive',\n",
              "                                                     [key], {});\n",
              "          if (!dataTable) return;\n",
              "\n",
              "          const docLinkHtml = 'Like what you see? Visit the ' +\n",
              "            '<a target=\"_blank\" href=https://colab.research.google.com/notebooks/data_table.ipynb>data table notebook</a>'\n",
              "            + ' to learn more about interactive tables.';\n",
              "          element.innerHTML = '';\n",
              "          dataTable['output_type'] = 'display_data';\n",
              "          await google.colab.output.renderOutput(dataTable, element);\n",
              "          const docLink = document.createElement('div');\n",
              "          docLink.innerHTML = docLinkHtml;\n",
              "          element.appendChild(docLink);\n",
              "        }\n",
              "      </script>\n",
              "    </div>\n",
              "  </div>\n"
            ]
          },
          "metadata": {},
          "execution_count": 27
        }
      ]
    },
    {
      "cell_type": "markdown",
      "source": [
        "Agora, a coluna `variable` tem uma string que mostra qual estatística está sendo mostrada (médio ou desvio), qual o tipo do conjunto usado (no caso, só temos o de teste), em qual a medida. Vamos quebrar os valores dessa coluna em três"
      ],
      "metadata": {
        "id": "aCq5wyhrOWe8"
      },
      "id": "aCq5wyhrOWe8"
    },
    {
      "cell_type": "code",
      "source": [
        "results_dt[['statistic','type','measure']] = results_dt['variable'].str.split(\"_\",expand=True)"
      ],
      "metadata": {
        "id": "DvlrmkLD8X8j"
      },
      "id": "DvlrmkLD8X8j",
      "execution_count": null,
      "outputs": []
    },
    {
      "cell_type": "code",
      "source": [
        "results_dt"
      ],
      "metadata": {
        "colab": {
          "base_uri": "https://localhost:8080/",
          "height": 614
        },
        "id": "VvMSqx79CByy",
        "outputId": "a9e70f0e-db07-4ff4-b14a-65ca25dd30a2"
      },
      "id": "VvMSqx79CByy",
      "execution_count": null,
      "outputs": [
        {
          "output_type": "execute_result",
          "data": {
            "text/plain": [
              "      params             variable     value statistic  type    measure\n",
              "0       gini        mean_test_AUC  0.583492      mean  test        AUC\n",
              "1    entropy        mean_test_AUC  0.581850      mean  test        AUC\n",
              "2   log_loss        mean_test_AUC  0.581697      mean  test        AUC\n",
              "3       gini  mean_test_F-measure  0.797354      mean  test  F-measure\n",
              "4    entropy  mean_test_F-measure  0.802038      mean  test  F-measure\n",
              "5   log_loss  mean_test_F-measure  0.801922      mean  test  F-measure\n",
              "6       gini   mean_test_Accuracy  0.692691      mean  test   Accuracy\n",
              "7    entropy   mean_test_Accuracy  0.697537      mean  test   Accuracy\n",
              "8   log_loss   mean_test_Accuracy  0.697386      mean  test   Accuracy\n",
              "9       gini         std_test_AUC  0.002192       std  test        AUC\n",
              "10   entropy         std_test_AUC  0.003080       std  test        AUC\n",
              "11  log_loss         std_test_AUC  0.003437       std  test        AUC\n",
              "12      gini   std_test_F-measure  0.002604       std  test  F-measure\n",
              "13   entropy   std_test_F-measure  0.000940       std  test  F-measure\n",
              "14  log_loss   std_test_F-measure  0.002332       std  test  F-measure\n",
              "15      gini    std_test_Accuracy  0.003121       std  test   Accuracy\n",
              "16   entropy    std_test_Accuracy  0.001632       std  test   Accuracy\n",
              "17  log_loss    std_test_Accuracy  0.003274       std  test   Accuracy"
            ],
            "text/html": [
              "\n",
              "\n",
              "  <div id=\"df-10fc8fe3-b2d0-4e90-a521-e641f993a46a\">\n",
              "    <div class=\"colab-df-container\">\n",
              "      <div>\n",
              "<style scoped>\n",
              "    .dataframe tbody tr th:only-of-type {\n",
              "        vertical-align: middle;\n",
              "    }\n",
              "\n",
              "    .dataframe tbody tr th {\n",
              "        vertical-align: top;\n",
              "    }\n",
              "\n",
              "    .dataframe thead th {\n",
              "        text-align: right;\n",
              "    }\n",
              "</style>\n",
              "<table border=\"1\" class=\"dataframe\">\n",
              "  <thead>\n",
              "    <tr style=\"text-align: right;\">\n",
              "      <th></th>\n",
              "      <th>params</th>\n",
              "      <th>variable</th>\n",
              "      <th>value</th>\n",
              "      <th>statistic</th>\n",
              "      <th>type</th>\n",
              "      <th>measure</th>\n",
              "    </tr>\n",
              "  </thead>\n",
              "  <tbody>\n",
              "    <tr>\n",
              "      <th>0</th>\n",
              "      <td>gini</td>\n",
              "      <td>mean_test_AUC</td>\n",
              "      <td>0.583492</td>\n",
              "      <td>mean</td>\n",
              "      <td>test</td>\n",
              "      <td>AUC</td>\n",
              "    </tr>\n",
              "    <tr>\n",
              "      <th>1</th>\n",
              "      <td>entropy</td>\n",
              "      <td>mean_test_AUC</td>\n",
              "      <td>0.581850</td>\n",
              "      <td>mean</td>\n",
              "      <td>test</td>\n",
              "      <td>AUC</td>\n",
              "    </tr>\n",
              "    <tr>\n",
              "      <th>2</th>\n",
              "      <td>log_loss</td>\n",
              "      <td>mean_test_AUC</td>\n",
              "      <td>0.581697</td>\n",
              "      <td>mean</td>\n",
              "      <td>test</td>\n",
              "      <td>AUC</td>\n",
              "    </tr>\n",
              "    <tr>\n",
              "      <th>3</th>\n",
              "      <td>gini</td>\n",
              "      <td>mean_test_F-measure</td>\n",
              "      <td>0.797354</td>\n",
              "      <td>mean</td>\n",
              "      <td>test</td>\n",
              "      <td>F-measure</td>\n",
              "    </tr>\n",
              "    <tr>\n",
              "      <th>4</th>\n",
              "      <td>entropy</td>\n",
              "      <td>mean_test_F-measure</td>\n",
              "      <td>0.802038</td>\n",
              "      <td>mean</td>\n",
              "      <td>test</td>\n",
              "      <td>F-measure</td>\n",
              "    </tr>\n",
              "    <tr>\n",
              "      <th>5</th>\n",
              "      <td>log_loss</td>\n",
              "      <td>mean_test_F-measure</td>\n",
              "      <td>0.801922</td>\n",
              "      <td>mean</td>\n",
              "      <td>test</td>\n",
              "      <td>F-measure</td>\n",
              "    </tr>\n",
              "    <tr>\n",
              "      <th>6</th>\n",
              "      <td>gini</td>\n",
              "      <td>mean_test_Accuracy</td>\n",
              "      <td>0.692691</td>\n",
              "      <td>mean</td>\n",
              "      <td>test</td>\n",
              "      <td>Accuracy</td>\n",
              "    </tr>\n",
              "    <tr>\n",
              "      <th>7</th>\n",
              "      <td>entropy</td>\n",
              "      <td>mean_test_Accuracy</td>\n",
              "      <td>0.697537</td>\n",
              "      <td>mean</td>\n",
              "      <td>test</td>\n",
              "      <td>Accuracy</td>\n",
              "    </tr>\n",
              "    <tr>\n",
              "      <th>8</th>\n",
              "      <td>log_loss</td>\n",
              "      <td>mean_test_Accuracy</td>\n",
              "      <td>0.697386</td>\n",
              "      <td>mean</td>\n",
              "      <td>test</td>\n",
              "      <td>Accuracy</td>\n",
              "    </tr>\n",
              "    <tr>\n",
              "      <th>9</th>\n",
              "      <td>gini</td>\n",
              "      <td>std_test_AUC</td>\n",
              "      <td>0.002192</td>\n",
              "      <td>std</td>\n",
              "      <td>test</td>\n",
              "      <td>AUC</td>\n",
              "    </tr>\n",
              "    <tr>\n",
              "      <th>10</th>\n",
              "      <td>entropy</td>\n",
              "      <td>std_test_AUC</td>\n",
              "      <td>0.003080</td>\n",
              "      <td>std</td>\n",
              "      <td>test</td>\n",
              "      <td>AUC</td>\n",
              "    </tr>\n",
              "    <tr>\n",
              "      <th>11</th>\n",
              "      <td>log_loss</td>\n",
              "      <td>std_test_AUC</td>\n",
              "      <td>0.003437</td>\n",
              "      <td>std</td>\n",
              "      <td>test</td>\n",
              "      <td>AUC</td>\n",
              "    </tr>\n",
              "    <tr>\n",
              "      <th>12</th>\n",
              "      <td>gini</td>\n",
              "      <td>std_test_F-measure</td>\n",
              "      <td>0.002604</td>\n",
              "      <td>std</td>\n",
              "      <td>test</td>\n",
              "      <td>F-measure</td>\n",
              "    </tr>\n",
              "    <tr>\n",
              "      <th>13</th>\n",
              "      <td>entropy</td>\n",
              "      <td>std_test_F-measure</td>\n",
              "      <td>0.000940</td>\n",
              "      <td>std</td>\n",
              "      <td>test</td>\n",
              "      <td>F-measure</td>\n",
              "    </tr>\n",
              "    <tr>\n",
              "      <th>14</th>\n",
              "      <td>log_loss</td>\n",
              "      <td>std_test_F-measure</td>\n",
              "      <td>0.002332</td>\n",
              "      <td>std</td>\n",
              "      <td>test</td>\n",
              "      <td>F-measure</td>\n",
              "    </tr>\n",
              "    <tr>\n",
              "      <th>15</th>\n",
              "      <td>gini</td>\n",
              "      <td>std_test_Accuracy</td>\n",
              "      <td>0.003121</td>\n",
              "      <td>std</td>\n",
              "      <td>test</td>\n",
              "      <td>Accuracy</td>\n",
              "    </tr>\n",
              "    <tr>\n",
              "      <th>16</th>\n",
              "      <td>entropy</td>\n",
              "      <td>std_test_Accuracy</td>\n",
              "      <td>0.001632</td>\n",
              "      <td>std</td>\n",
              "      <td>test</td>\n",
              "      <td>Accuracy</td>\n",
              "    </tr>\n",
              "    <tr>\n",
              "      <th>17</th>\n",
              "      <td>log_loss</td>\n",
              "      <td>std_test_Accuracy</td>\n",
              "      <td>0.003274</td>\n",
              "      <td>std</td>\n",
              "      <td>test</td>\n",
              "      <td>Accuracy</td>\n",
              "    </tr>\n",
              "  </tbody>\n",
              "</table>\n",
              "</div>\n",
              "      <button class=\"colab-df-convert\" onclick=\"convertToInteractive('df-10fc8fe3-b2d0-4e90-a521-e641f993a46a')\"\n",
              "              title=\"Convert this dataframe to an interactive table.\"\n",
              "              style=\"display:none;\">\n",
              "\n",
              "  <svg xmlns=\"http://www.w3.org/2000/svg\" height=\"24px\"viewBox=\"0 0 24 24\"\n",
              "       width=\"24px\">\n",
              "    <path d=\"M0 0h24v24H0V0z\" fill=\"none\"/>\n",
              "    <path d=\"M18.56 5.44l.94 2.06.94-2.06 2.06-.94-2.06-.94-.94-2.06-.94 2.06-2.06.94zm-11 1L8.5 8.5l.94-2.06 2.06-.94-2.06-.94L8.5 2.5l-.94 2.06-2.06.94zm10 10l.94 2.06.94-2.06 2.06-.94-2.06-.94-.94-2.06-.94 2.06-2.06.94z\"/><path d=\"M17.41 7.96l-1.37-1.37c-.4-.4-.92-.59-1.43-.59-.52 0-1.04.2-1.43.59L10.3 9.45l-7.72 7.72c-.78.78-.78 2.05 0 2.83L4 21.41c.39.39.9.59 1.41.59.51 0 1.02-.2 1.41-.59l7.78-7.78 2.81-2.81c.8-.78.8-2.07 0-2.86zM5.41 20L4 18.59l7.72-7.72 1.47 1.35L5.41 20z\"/>\n",
              "  </svg>\n",
              "      </button>\n",
              "\n",
              "\n",
              "\n",
              "    <div id=\"df-d1305c80-c7fc-4fac-b8c8-b0e8e7c00cb5\">\n",
              "      <button class=\"colab-df-quickchart\" onclick=\"quickchart('df-d1305c80-c7fc-4fac-b8c8-b0e8e7c00cb5')\"\n",
              "              title=\"Suggest charts.\"\n",
              "              style=\"display:none;\">\n",
              "\n",
              "<svg xmlns=\"http://www.w3.org/2000/svg\" height=\"24px\"viewBox=\"0 0 24 24\"\n",
              "     width=\"24px\">\n",
              "    <g>\n",
              "        <path d=\"M19 3H5c-1.1 0-2 .9-2 2v14c0 1.1.9 2 2 2h14c1.1 0 2-.9 2-2V5c0-1.1-.9-2-2-2zM9 17H7v-7h2v7zm4 0h-2V7h2v10zm4 0h-2v-4h2v4z\"/>\n",
              "    </g>\n",
              "</svg>\n",
              "      </button>\n",
              "    </div>\n",
              "\n",
              "<style>\n",
              "  .colab-df-quickchart {\n",
              "    background-color: #E8F0FE;\n",
              "    border: none;\n",
              "    border-radius: 50%;\n",
              "    cursor: pointer;\n",
              "    display: none;\n",
              "    fill: #1967D2;\n",
              "    height: 32px;\n",
              "    padding: 0 0 0 0;\n",
              "    width: 32px;\n",
              "  }\n",
              "\n",
              "  .colab-df-quickchart:hover {\n",
              "    background-color: #E2EBFA;\n",
              "    box-shadow: 0px 1px 2px rgba(60, 64, 67, 0.3), 0px 1px 3px 1px rgba(60, 64, 67, 0.15);\n",
              "    fill: #174EA6;\n",
              "  }\n",
              "\n",
              "  [theme=dark] .colab-df-quickchart {\n",
              "    background-color: #3B4455;\n",
              "    fill: #D2E3FC;\n",
              "  }\n",
              "\n",
              "  [theme=dark] .colab-df-quickchart:hover {\n",
              "    background-color: #434B5C;\n",
              "    box-shadow: 0px 1px 3px 1px rgba(0, 0, 0, 0.15);\n",
              "    filter: drop-shadow(0px 1px 2px rgba(0, 0, 0, 0.3));\n",
              "    fill: #FFFFFF;\n",
              "  }\n",
              "</style>\n",
              "\n",
              "    <script>\n",
              "      async function quickchart(key) {\n",
              "        const containerElement = document.querySelector('#' + key);\n",
              "        const charts = await google.colab.kernel.invokeFunction(\n",
              "            'suggestCharts', [key], {});\n",
              "      }\n",
              "    </script>\n",
              "\n",
              "      <script>\n",
              "\n",
              "function displayQuickchartButton(domScope) {\n",
              "  let quickchartButtonEl =\n",
              "    domScope.querySelector('#df-d1305c80-c7fc-4fac-b8c8-b0e8e7c00cb5 button.colab-df-quickchart');\n",
              "  quickchartButtonEl.style.display =\n",
              "    google.colab.kernel.accessAllowed ? 'block' : 'none';\n",
              "}\n",
              "\n",
              "        displayQuickchartButton(document);\n",
              "      </script>\n",
              "      <style>\n",
              "    .colab-df-container {\n",
              "      display:flex;\n",
              "      flex-wrap:wrap;\n",
              "      gap: 12px;\n",
              "    }\n",
              "\n",
              "    .colab-df-convert {\n",
              "      background-color: #E8F0FE;\n",
              "      border: none;\n",
              "      border-radius: 50%;\n",
              "      cursor: pointer;\n",
              "      display: none;\n",
              "      fill: #1967D2;\n",
              "      height: 32px;\n",
              "      padding: 0 0 0 0;\n",
              "      width: 32px;\n",
              "    }\n",
              "\n",
              "    .colab-df-convert:hover {\n",
              "      background-color: #E2EBFA;\n",
              "      box-shadow: 0px 1px 2px rgba(60, 64, 67, 0.3), 0px 1px 3px 1px rgba(60, 64, 67, 0.15);\n",
              "      fill: #174EA6;\n",
              "    }\n",
              "\n",
              "    [theme=dark] .colab-df-convert {\n",
              "      background-color: #3B4455;\n",
              "      fill: #D2E3FC;\n",
              "    }\n",
              "\n",
              "    [theme=dark] .colab-df-convert:hover {\n",
              "      background-color: #434B5C;\n",
              "      box-shadow: 0px 1px 3px 1px rgba(0, 0, 0, 0.15);\n",
              "      filter: drop-shadow(0px 1px 2px rgba(0, 0, 0, 0.3));\n",
              "      fill: #FFFFFF;\n",
              "    }\n",
              "  </style>\n",
              "\n",
              "      <script>\n",
              "        const buttonEl =\n",
              "          document.querySelector('#df-10fc8fe3-b2d0-4e90-a521-e641f993a46a button.colab-df-convert');\n",
              "        buttonEl.style.display =\n",
              "          google.colab.kernel.accessAllowed ? 'block' : 'none';\n",
              "\n",
              "        async function convertToInteractive(key) {\n",
              "          const element = document.querySelector('#df-10fc8fe3-b2d0-4e90-a521-e641f993a46a');\n",
              "          const dataTable =\n",
              "            await google.colab.kernel.invokeFunction('convertToInteractive',\n",
              "                                                     [key], {});\n",
              "          if (!dataTable) return;\n",
              "\n",
              "          const docLinkHtml = 'Like what you see? Visit the ' +\n",
              "            '<a target=\"_blank\" href=https://colab.research.google.com/notebooks/data_table.ipynb>data table notebook</a>'\n",
              "            + ' to learn more about interactive tables.';\n",
              "          element.innerHTML = '';\n",
              "          dataTable['output_type'] = 'display_data';\n",
              "          await google.colab.output.renderOutput(dataTable, element);\n",
              "          const docLink = document.createElement('div');\n",
              "          docLink.innerHTML = docLinkHtml;\n",
              "          element.appendChild(docLink);\n",
              "        }\n",
              "      </script>\n",
              "    </div>\n",
              "  </div>\n"
            ]
          },
          "metadata": {},
          "execution_count": 29
        }
      ]
    },
    {
      "cell_type": "markdown",
      "source": [
        "Finalmente, vamos reorganizar novamente, para mostrar a média e o desvio em colunas separadas. A função `pivot` transforma do formato longo para o largo."
      ],
      "metadata": {
        "id": "Bip0tezEOy4Q"
      },
      "id": "Bip0tezEOy4Q"
    },
    {
      "cell_type": "code",
      "source": [
        "results_dt.pivot(values = 'value', index = ['measure','params'], columns = 'statistic')"
      ],
      "metadata": {
        "colab": {
          "base_uri": "https://localhost:8080/",
          "height": 363
        },
        "id": "EKRWbZy243QD",
        "outputId": "00479f66-60c6-4ad3-c30a-dc896fa1fad6"
      },
      "id": "EKRWbZy243QD",
      "execution_count": null,
      "outputs": [
        {
          "output_type": "execute_result",
          "data": {
            "text/plain": [
              "statistic               mean       std\n",
              "measure   params                      \n",
              "AUC       entropy   0.581850  0.003080\n",
              "          gini      0.583492  0.002192\n",
              "          log_loss  0.581697  0.003437\n",
              "Accuracy  entropy   0.697537  0.001632\n",
              "          gini      0.692691  0.003121\n",
              "          log_loss  0.697386  0.003274\n",
              "F-measure entropy   0.802038  0.000940\n",
              "          gini      0.797354  0.002604\n",
              "          log_loss  0.801922  0.002332"
            ],
            "text/html": [
              "\n",
              "\n",
              "  <div id=\"df-6260aba7-6898-435d-b62f-707945372975\">\n",
              "    <div class=\"colab-df-container\">\n",
              "      <div>\n",
              "<style scoped>\n",
              "    .dataframe tbody tr th:only-of-type {\n",
              "        vertical-align: middle;\n",
              "    }\n",
              "\n",
              "    .dataframe tbody tr th {\n",
              "        vertical-align: top;\n",
              "    }\n",
              "\n",
              "    .dataframe thead th {\n",
              "        text-align: right;\n",
              "    }\n",
              "</style>\n",
              "<table border=\"1\" class=\"dataframe\">\n",
              "  <thead>\n",
              "    <tr style=\"text-align: right;\">\n",
              "      <th></th>\n",
              "      <th>statistic</th>\n",
              "      <th>mean</th>\n",
              "      <th>std</th>\n",
              "    </tr>\n",
              "    <tr>\n",
              "      <th>measure</th>\n",
              "      <th>params</th>\n",
              "      <th></th>\n",
              "      <th></th>\n",
              "    </tr>\n",
              "  </thead>\n",
              "  <tbody>\n",
              "    <tr>\n",
              "      <th rowspan=\"3\" valign=\"top\">AUC</th>\n",
              "      <th>entropy</th>\n",
              "      <td>0.581850</td>\n",
              "      <td>0.003080</td>\n",
              "    </tr>\n",
              "    <tr>\n",
              "      <th>gini</th>\n",
              "      <td>0.583492</td>\n",
              "      <td>0.002192</td>\n",
              "    </tr>\n",
              "    <tr>\n",
              "      <th>log_loss</th>\n",
              "      <td>0.581697</td>\n",
              "      <td>0.003437</td>\n",
              "    </tr>\n",
              "    <tr>\n",
              "      <th rowspan=\"3\" valign=\"top\">Accuracy</th>\n",
              "      <th>entropy</th>\n",
              "      <td>0.697537</td>\n",
              "      <td>0.001632</td>\n",
              "    </tr>\n",
              "    <tr>\n",
              "      <th>gini</th>\n",
              "      <td>0.692691</td>\n",
              "      <td>0.003121</td>\n",
              "    </tr>\n",
              "    <tr>\n",
              "      <th>log_loss</th>\n",
              "      <td>0.697386</td>\n",
              "      <td>0.003274</td>\n",
              "    </tr>\n",
              "    <tr>\n",
              "      <th rowspan=\"3\" valign=\"top\">F-measure</th>\n",
              "      <th>entropy</th>\n",
              "      <td>0.802038</td>\n",
              "      <td>0.000940</td>\n",
              "    </tr>\n",
              "    <tr>\n",
              "      <th>gini</th>\n",
              "      <td>0.797354</td>\n",
              "      <td>0.002604</td>\n",
              "    </tr>\n",
              "    <tr>\n",
              "      <th>log_loss</th>\n",
              "      <td>0.801922</td>\n",
              "      <td>0.002332</td>\n",
              "    </tr>\n",
              "  </tbody>\n",
              "</table>\n",
              "</div>\n",
              "      <button class=\"colab-df-convert\" onclick=\"convertToInteractive('df-6260aba7-6898-435d-b62f-707945372975')\"\n",
              "              title=\"Convert this dataframe to an interactive table.\"\n",
              "              style=\"display:none;\">\n",
              "\n",
              "  <svg xmlns=\"http://www.w3.org/2000/svg\" height=\"24px\"viewBox=\"0 0 24 24\"\n",
              "       width=\"24px\">\n",
              "    <path d=\"M0 0h24v24H0V0z\" fill=\"none\"/>\n",
              "    <path d=\"M18.56 5.44l.94 2.06.94-2.06 2.06-.94-2.06-.94-.94-2.06-.94 2.06-2.06.94zm-11 1L8.5 8.5l.94-2.06 2.06-.94-2.06-.94L8.5 2.5l-.94 2.06-2.06.94zm10 10l.94 2.06.94-2.06 2.06-.94-2.06-.94-.94-2.06-.94 2.06-2.06.94z\"/><path d=\"M17.41 7.96l-1.37-1.37c-.4-.4-.92-.59-1.43-.59-.52 0-1.04.2-1.43.59L10.3 9.45l-7.72 7.72c-.78.78-.78 2.05 0 2.83L4 21.41c.39.39.9.59 1.41.59.51 0 1.02-.2 1.41-.59l7.78-7.78 2.81-2.81c.8-.78.8-2.07 0-2.86zM5.41 20L4 18.59l7.72-7.72 1.47 1.35L5.41 20z\"/>\n",
              "  </svg>\n",
              "      </button>\n",
              "\n",
              "\n",
              "\n",
              "    <div id=\"df-d4a807f6-3731-41dd-a8f4-30632c3fe066\">\n",
              "      <button class=\"colab-df-quickchart\" onclick=\"quickchart('df-d4a807f6-3731-41dd-a8f4-30632c3fe066')\"\n",
              "              title=\"Suggest charts.\"\n",
              "              style=\"display:none;\">\n",
              "\n",
              "<svg xmlns=\"http://www.w3.org/2000/svg\" height=\"24px\"viewBox=\"0 0 24 24\"\n",
              "     width=\"24px\">\n",
              "    <g>\n",
              "        <path d=\"M19 3H5c-1.1 0-2 .9-2 2v14c0 1.1.9 2 2 2h14c1.1 0 2-.9 2-2V5c0-1.1-.9-2-2-2zM9 17H7v-7h2v7zm4 0h-2V7h2v10zm4 0h-2v-4h2v4z\"/>\n",
              "    </g>\n",
              "</svg>\n",
              "      </button>\n",
              "    </div>\n",
              "\n",
              "<style>\n",
              "  .colab-df-quickchart {\n",
              "    background-color: #E8F0FE;\n",
              "    border: none;\n",
              "    border-radius: 50%;\n",
              "    cursor: pointer;\n",
              "    display: none;\n",
              "    fill: #1967D2;\n",
              "    height: 32px;\n",
              "    padding: 0 0 0 0;\n",
              "    width: 32px;\n",
              "  }\n",
              "\n",
              "  .colab-df-quickchart:hover {\n",
              "    background-color: #E2EBFA;\n",
              "    box-shadow: 0px 1px 2px rgba(60, 64, 67, 0.3), 0px 1px 3px 1px rgba(60, 64, 67, 0.15);\n",
              "    fill: #174EA6;\n",
              "  }\n",
              "\n",
              "  [theme=dark] .colab-df-quickchart {\n",
              "    background-color: #3B4455;\n",
              "    fill: #D2E3FC;\n",
              "  }\n",
              "\n",
              "  [theme=dark] .colab-df-quickchart:hover {\n",
              "    background-color: #434B5C;\n",
              "    box-shadow: 0px 1px 3px 1px rgba(0, 0, 0, 0.15);\n",
              "    filter: drop-shadow(0px 1px 2px rgba(0, 0, 0, 0.3));\n",
              "    fill: #FFFFFF;\n",
              "  }\n",
              "</style>\n",
              "\n",
              "    <script>\n",
              "      async function quickchart(key) {\n",
              "        const containerElement = document.querySelector('#' + key);\n",
              "        const charts = await google.colab.kernel.invokeFunction(\n",
              "            'suggestCharts', [key], {});\n",
              "      }\n",
              "    </script>\n",
              "\n",
              "      <script>\n",
              "\n",
              "function displayQuickchartButton(domScope) {\n",
              "  let quickchartButtonEl =\n",
              "    domScope.querySelector('#df-d4a807f6-3731-41dd-a8f4-30632c3fe066 button.colab-df-quickchart');\n",
              "  quickchartButtonEl.style.display =\n",
              "    google.colab.kernel.accessAllowed ? 'block' : 'none';\n",
              "}\n",
              "\n",
              "        displayQuickchartButton(document);\n",
              "      </script>\n",
              "      <style>\n",
              "    .colab-df-container {\n",
              "      display:flex;\n",
              "      flex-wrap:wrap;\n",
              "      gap: 12px;\n",
              "    }\n",
              "\n",
              "    .colab-df-convert {\n",
              "      background-color: #E8F0FE;\n",
              "      border: none;\n",
              "      border-radius: 50%;\n",
              "      cursor: pointer;\n",
              "      display: none;\n",
              "      fill: #1967D2;\n",
              "      height: 32px;\n",
              "      padding: 0 0 0 0;\n",
              "      width: 32px;\n",
              "    }\n",
              "\n",
              "    .colab-df-convert:hover {\n",
              "      background-color: #E2EBFA;\n",
              "      box-shadow: 0px 1px 2px rgba(60, 64, 67, 0.3), 0px 1px 3px 1px rgba(60, 64, 67, 0.15);\n",
              "      fill: #174EA6;\n",
              "    }\n",
              "\n",
              "    [theme=dark] .colab-df-convert {\n",
              "      background-color: #3B4455;\n",
              "      fill: #D2E3FC;\n",
              "    }\n",
              "\n",
              "    [theme=dark] .colab-df-convert:hover {\n",
              "      background-color: #434B5C;\n",
              "      box-shadow: 0px 1px 3px 1px rgba(0, 0, 0, 0.15);\n",
              "      filter: drop-shadow(0px 1px 2px rgba(0, 0, 0, 0.3));\n",
              "      fill: #FFFFFF;\n",
              "    }\n",
              "  </style>\n",
              "\n",
              "      <script>\n",
              "        const buttonEl =\n",
              "          document.querySelector('#df-6260aba7-6898-435d-b62f-707945372975 button.colab-df-convert');\n",
              "        buttonEl.style.display =\n",
              "          google.colab.kernel.accessAllowed ? 'block' : 'none';\n",
              "\n",
              "        async function convertToInteractive(key) {\n",
              "          const element = document.querySelector('#df-6260aba7-6898-435d-b62f-707945372975');\n",
              "          const dataTable =\n",
              "            await google.colab.kernel.invokeFunction('convertToInteractive',\n",
              "                                                     [key], {});\n",
              "          if (!dataTable) return;\n",
              "\n",
              "          const docLinkHtml = 'Like what you see? Visit the ' +\n",
              "            '<a target=\"_blank\" href=https://colab.research.google.com/notebooks/data_table.ipynb>data table notebook</a>'\n",
              "            + ' to learn more about interactive tables.';\n",
              "          element.innerHTML = '';\n",
              "          dataTable['output_type'] = 'display_data';\n",
              "          await google.colab.output.renderOutput(dataTable, element);\n",
              "          const docLink = document.createElement('div');\n",
              "          docLink.innerHTML = docLinkHtml;\n",
              "          element.appendChild(docLink);\n",
              "        }\n",
              "      </script>\n",
              "    </div>\n",
              "  </div>\n"
            ]
          },
          "metadata": {},
          "execution_count": 30
        }
      ]
    },
    {
      "cell_type": "markdown",
      "source": [
        "Vamos agora compara três algoritmos diferentes: o discriminante linear, o discriminante quadrático, e o Naïve Bayes. Vamos também usar três medidas, o $\\kappa$, acurácia e o AUC. Vamos também usar a validação cruzada estratificada. Como o conjunto de dados é relativamente grande, não há muita diferença entre usar validação cruzada estratificada ou não, mas vale como exercício. Além disso, ao invés de usar o GridSearch, vamos iterar sobre os folds do $k$ fold usando um laço. O resultado de cada iteração é guardado em uma lista, para podermos visualizar posteriormente."
      ],
      "metadata": {
        "id": "pFQrVZIzPBqP"
      },
      "id": "pFQrVZIzPBqP"
    },
    {
      "cell_type": "code",
      "source": [
        "from sklearn.discriminant_analysis import LinearDiscriminantAnalysis, QuadraticDiscriminantAnalysis\n",
        "from sklearn.naive_bayes import GaussianNB\n",
        "from sklearn.model_selection import StratifiedKFold\n",
        "from sklearn.metrics import cohen_kappa_score, accuracy_score, roc_auc_score"
      ],
      "metadata": {
        "id": "tsZ7pIyQj-NM"
      },
      "id": "tsZ7pIyQj-NM",
      "execution_count": null,
      "outputs": []
    },
    {
      "cell_type": "code",
      "source": [
        "models={'LDA' : LinearDiscriminantAnalysis(),\n",
        "        'QDA' : QuadraticDiscriminantAnalysis(),\n",
        "        'NaiveBayes' : GaussianNB()}\n",
        "\n",
        "measures = {'kappa' : cohen_kappa_score,\n",
        "            'acc' : accuracy_score,\n",
        "            'AUC' : roc_auc_score}\n",
        "\n",
        "skf = StratifiedKFold(n_splits=5)\n",
        "\n",
        "results_parmetric = []\n",
        "for train, test in skf.split(X, Y):\n",
        "  for model_name, model  in models.items():\n",
        "    model.fit(X.iloc[train],Y.iloc[train])\n",
        "    predictios = model.predict(X.iloc[test])\n",
        "    for measure_name, measure in measures.items():\n",
        "      score = measure(Y.iloc[test],predictios)\n",
        "      results_parmetric.append([model_name,measure_name, score])\n"
      ],
      "metadata": {
        "id": "qC9E-wGe0Ah4"
      },
      "id": "qC9E-wGe0Ah4",
      "execution_count": null,
      "outputs": []
    },
    {
      "cell_type": "markdown",
      "source": [
        "Vamos agora verificar o comportamento médio desses algoritmos:"
      ],
      "metadata": {
        "id": "OvHtR4cCittx"
      },
      "id": "OvHtR4cCittx"
    },
    {
      "cell_type": "code",
      "source": [
        "results_parmetric = pd.DataFrame(results_parmetric,columns=['Algorithm','measure','value'])"
      ],
      "metadata": {
        "id": "awOO7MYv4bIi"
      },
      "id": "awOO7MYv4bIi",
      "execution_count": null,
      "outputs": []
    },
    {
      "cell_type": "code",
      "source": [
        "results_parmetric.groupby(['measure','Algorithm']).describe()['value'][['mean','std']]"
      ],
      "metadata": {
        "colab": {
          "base_uri": "https://localhost:8080/",
          "height": 363
        },
        "id": "K7Dww2e_cOg4",
        "outputId": "fb7097c8-0514-4aac-9729-70705be98849"
      },
      "id": "K7Dww2e_cOg4",
      "execution_count": null,
      "outputs": [
        {
          "output_type": "execute_result",
          "data": {
            "text/plain": [
              "                        mean       std\n",
              "measure Algorithm                     \n",
              "AUC     LDA         0.575159  0.004988\n",
              "        NaiveBayes  0.581346  0.006317\n",
              "        QDA         0.588904  0.006784\n",
              "acc     LDA         0.792154  0.002663\n",
              "        NaiveBayes  0.771422  0.003972\n",
              "        QDA         0.779667  0.003203\n",
              "kappa   LDA         0.204785  0.012301\n",
              "        NaiveBayes  0.202198  0.014564\n",
              "        QDA         0.223170  0.014961"
            ],
            "text/html": [
              "\n",
              "\n",
              "  <div id=\"df-3e15ad0b-fc26-4a82-b514-719809c90bd3\">\n",
              "    <div class=\"colab-df-container\">\n",
              "      <div>\n",
              "<style scoped>\n",
              "    .dataframe tbody tr th:only-of-type {\n",
              "        vertical-align: middle;\n",
              "    }\n",
              "\n",
              "    .dataframe tbody tr th {\n",
              "        vertical-align: top;\n",
              "    }\n",
              "\n",
              "    .dataframe thead th {\n",
              "        text-align: right;\n",
              "    }\n",
              "</style>\n",
              "<table border=\"1\" class=\"dataframe\">\n",
              "  <thead>\n",
              "    <tr style=\"text-align: right;\">\n",
              "      <th></th>\n",
              "      <th></th>\n",
              "      <th>mean</th>\n",
              "      <th>std</th>\n",
              "    </tr>\n",
              "    <tr>\n",
              "      <th>measure</th>\n",
              "      <th>Algorithm</th>\n",
              "      <th></th>\n",
              "      <th></th>\n",
              "    </tr>\n",
              "  </thead>\n",
              "  <tbody>\n",
              "    <tr>\n",
              "      <th rowspan=\"3\" valign=\"top\">AUC</th>\n",
              "      <th>LDA</th>\n",
              "      <td>0.575159</td>\n",
              "      <td>0.004988</td>\n",
              "    </tr>\n",
              "    <tr>\n",
              "      <th>NaiveBayes</th>\n",
              "      <td>0.581346</td>\n",
              "      <td>0.006317</td>\n",
              "    </tr>\n",
              "    <tr>\n",
              "      <th>QDA</th>\n",
              "      <td>0.588904</td>\n",
              "      <td>0.006784</td>\n",
              "    </tr>\n",
              "    <tr>\n",
              "      <th rowspan=\"3\" valign=\"top\">acc</th>\n",
              "      <th>LDA</th>\n",
              "      <td>0.792154</td>\n",
              "      <td>0.002663</td>\n",
              "    </tr>\n",
              "    <tr>\n",
              "      <th>NaiveBayes</th>\n",
              "      <td>0.771422</td>\n",
              "      <td>0.003972</td>\n",
              "    </tr>\n",
              "    <tr>\n",
              "      <th>QDA</th>\n",
              "      <td>0.779667</td>\n",
              "      <td>0.003203</td>\n",
              "    </tr>\n",
              "    <tr>\n",
              "      <th rowspan=\"3\" valign=\"top\">kappa</th>\n",
              "      <th>LDA</th>\n",
              "      <td>0.204785</td>\n",
              "      <td>0.012301</td>\n",
              "    </tr>\n",
              "    <tr>\n",
              "      <th>NaiveBayes</th>\n",
              "      <td>0.202198</td>\n",
              "      <td>0.014564</td>\n",
              "    </tr>\n",
              "    <tr>\n",
              "      <th>QDA</th>\n",
              "      <td>0.223170</td>\n",
              "      <td>0.014961</td>\n",
              "    </tr>\n",
              "  </tbody>\n",
              "</table>\n",
              "</div>\n",
              "      <button class=\"colab-df-convert\" onclick=\"convertToInteractive('df-3e15ad0b-fc26-4a82-b514-719809c90bd3')\"\n",
              "              title=\"Convert this dataframe to an interactive table.\"\n",
              "              style=\"display:none;\">\n",
              "\n",
              "  <svg xmlns=\"http://www.w3.org/2000/svg\" height=\"24px\"viewBox=\"0 0 24 24\"\n",
              "       width=\"24px\">\n",
              "    <path d=\"M0 0h24v24H0V0z\" fill=\"none\"/>\n",
              "    <path d=\"M18.56 5.44l.94 2.06.94-2.06 2.06-.94-2.06-.94-.94-2.06-.94 2.06-2.06.94zm-11 1L8.5 8.5l.94-2.06 2.06-.94-2.06-.94L8.5 2.5l-.94 2.06-2.06.94zm10 10l.94 2.06.94-2.06 2.06-.94-2.06-.94-.94-2.06-.94 2.06-2.06.94z\"/><path d=\"M17.41 7.96l-1.37-1.37c-.4-.4-.92-.59-1.43-.59-.52 0-1.04.2-1.43.59L10.3 9.45l-7.72 7.72c-.78.78-.78 2.05 0 2.83L4 21.41c.39.39.9.59 1.41.59.51 0 1.02-.2 1.41-.59l7.78-7.78 2.81-2.81c.8-.78.8-2.07 0-2.86zM5.41 20L4 18.59l7.72-7.72 1.47 1.35L5.41 20z\"/>\n",
              "  </svg>\n",
              "      </button>\n",
              "\n",
              "\n",
              "\n",
              "    <div id=\"df-f0093055-7742-4ae7-afa3-755aed751248\">\n",
              "      <button class=\"colab-df-quickchart\" onclick=\"quickchart('df-f0093055-7742-4ae7-afa3-755aed751248')\"\n",
              "              title=\"Suggest charts.\"\n",
              "              style=\"display:none;\">\n",
              "\n",
              "<svg xmlns=\"http://www.w3.org/2000/svg\" height=\"24px\"viewBox=\"0 0 24 24\"\n",
              "     width=\"24px\">\n",
              "    <g>\n",
              "        <path d=\"M19 3H5c-1.1 0-2 .9-2 2v14c0 1.1.9 2 2 2h14c1.1 0 2-.9 2-2V5c0-1.1-.9-2-2-2zM9 17H7v-7h2v7zm4 0h-2V7h2v10zm4 0h-2v-4h2v4z\"/>\n",
              "    </g>\n",
              "</svg>\n",
              "      </button>\n",
              "    </div>\n",
              "\n",
              "<style>\n",
              "  .colab-df-quickchart {\n",
              "    background-color: #E8F0FE;\n",
              "    border: none;\n",
              "    border-radius: 50%;\n",
              "    cursor: pointer;\n",
              "    display: none;\n",
              "    fill: #1967D2;\n",
              "    height: 32px;\n",
              "    padding: 0 0 0 0;\n",
              "    width: 32px;\n",
              "  }\n",
              "\n",
              "  .colab-df-quickchart:hover {\n",
              "    background-color: #E2EBFA;\n",
              "    box-shadow: 0px 1px 2px rgba(60, 64, 67, 0.3), 0px 1px 3px 1px rgba(60, 64, 67, 0.15);\n",
              "    fill: #174EA6;\n",
              "  }\n",
              "\n",
              "  [theme=dark] .colab-df-quickchart {\n",
              "    background-color: #3B4455;\n",
              "    fill: #D2E3FC;\n",
              "  }\n",
              "\n",
              "  [theme=dark] .colab-df-quickchart:hover {\n",
              "    background-color: #434B5C;\n",
              "    box-shadow: 0px 1px 3px 1px rgba(0, 0, 0, 0.15);\n",
              "    filter: drop-shadow(0px 1px 2px rgba(0, 0, 0, 0.3));\n",
              "    fill: #FFFFFF;\n",
              "  }\n",
              "</style>\n",
              "\n",
              "    <script>\n",
              "      async function quickchart(key) {\n",
              "        const containerElement = document.querySelector('#' + key);\n",
              "        const charts = await google.colab.kernel.invokeFunction(\n",
              "            'suggestCharts', [key], {});\n",
              "      }\n",
              "    </script>\n",
              "\n",
              "      <script>\n",
              "\n",
              "function displayQuickchartButton(domScope) {\n",
              "  let quickchartButtonEl =\n",
              "    domScope.querySelector('#df-f0093055-7742-4ae7-afa3-755aed751248 button.colab-df-quickchart');\n",
              "  quickchartButtonEl.style.display =\n",
              "    google.colab.kernel.accessAllowed ? 'block' : 'none';\n",
              "}\n",
              "\n",
              "        displayQuickchartButton(document);\n",
              "      </script>\n",
              "      <style>\n",
              "    .colab-df-container {\n",
              "      display:flex;\n",
              "      flex-wrap:wrap;\n",
              "      gap: 12px;\n",
              "    }\n",
              "\n",
              "    .colab-df-convert {\n",
              "      background-color: #E8F0FE;\n",
              "      border: none;\n",
              "      border-radius: 50%;\n",
              "      cursor: pointer;\n",
              "      display: none;\n",
              "      fill: #1967D2;\n",
              "      height: 32px;\n",
              "      padding: 0 0 0 0;\n",
              "      width: 32px;\n",
              "    }\n",
              "\n",
              "    .colab-df-convert:hover {\n",
              "      background-color: #E2EBFA;\n",
              "      box-shadow: 0px 1px 2px rgba(60, 64, 67, 0.3), 0px 1px 3px 1px rgba(60, 64, 67, 0.15);\n",
              "      fill: #174EA6;\n",
              "    }\n",
              "\n",
              "    [theme=dark] .colab-df-convert {\n",
              "      background-color: #3B4455;\n",
              "      fill: #D2E3FC;\n",
              "    }\n",
              "\n",
              "    [theme=dark] .colab-df-convert:hover {\n",
              "      background-color: #434B5C;\n",
              "      box-shadow: 0px 1px 3px 1px rgba(0, 0, 0, 0.15);\n",
              "      filter: drop-shadow(0px 1px 2px rgba(0, 0, 0, 0.3));\n",
              "      fill: #FFFFFF;\n",
              "    }\n",
              "  </style>\n",
              "\n",
              "      <script>\n",
              "        const buttonEl =\n",
              "          document.querySelector('#df-3e15ad0b-fc26-4a82-b514-719809c90bd3 button.colab-df-convert');\n",
              "        buttonEl.style.display =\n",
              "          google.colab.kernel.accessAllowed ? 'block' : 'none';\n",
              "\n",
              "        async function convertToInteractive(key) {\n",
              "          const element = document.querySelector('#df-3e15ad0b-fc26-4a82-b514-719809c90bd3');\n",
              "          const dataTable =\n",
              "            await google.colab.kernel.invokeFunction('convertToInteractive',\n",
              "                                                     [key], {});\n",
              "          if (!dataTable) return;\n",
              "\n",
              "          const docLinkHtml = 'Like what you see? Visit the ' +\n",
              "            '<a target=\"_blank\" href=https://colab.research.google.com/notebooks/data_table.ipynb>data table notebook</a>'\n",
              "            + ' to learn more about interactive tables.';\n",
              "          element.innerHTML = '';\n",
              "          dataTable['output_type'] = 'display_data';\n",
              "          await google.colab.output.renderOutput(dataTable, element);\n",
              "          const docLink = document.createElement('div');\n",
              "          docLink.innerHTML = docLinkHtml;\n",
              "          element.appendChild(docLink);\n",
              "        }\n",
              "      </script>\n",
              "    </div>\n",
              "  </div>\n"
            ]
          },
          "metadata": {},
          "execution_count": 34
        }
      ]
    },
    {
      "cell_type": "markdown",
      "source": [
        "Finalmente, vamos costruir um modelo de usando florestas aleatórias (Random Forestes). Como temos um único algoritmo, vamos usar uma terceira maneira de fazer a validação cruzada."
      ],
      "metadata": {
        "id": "pG0NMVyxi6O9"
      },
      "id": "pG0NMVyxi6O9"
    },
    {
      "cell_type": "code",
      "source": [
        "from sklearn.model_selection import cross_validate\n",
        "from sklearn.ensemble import RandomForestClassifier\n",
        "\n",
        "results_rf = cross_validate(RandomForestClassifier(),X,Y,scoring=['roc_auc','f1','accuracy'], cv= skf)"
      ],
      "metadata": {
        "id": "ng-pBCKLIcdY"
      },
      "id": "ng-pBCKLIcdY",
      "execution_count": null,
      "outputs": []
    },
    {
      "cell_type": "code",
      "source": [
        "pd.DataFrame(results_rf).describe().loc[['mean','std']].T"
      ],
      "metadata": {
        "colab": {
          "base_uri": "https://localhost:8080/",
          "height": 206
        },
        "id": "Zae-z3K8qLyR",
        "outputId": "226e03d4-ebd7-4f2c-e985-60499644703d"
      },
      "id": "Zae-z3K8qLyR",
      "execution_count": null,
      "outputs": [
        {
          "output_type": "execute_result",
          "data": {
            "text/plain": [
              "                    mean       std\n",
              "fit_time       60.009979  3.532306\n",
              "score_time      1.747328  0.142359\n",
              "test_roc_auc    0.701073  0.004412\n",
              "test_f1         0.883039  0.001099\n",
              "test_accuracy   0.801846  0.002034"
            ],
            "text/html": [
              "\n",
              "\n",
              "  <div id=\"df-80ac3615-0c1e-456d-9dd9-37d69b2b4319\">\n",
              "    <div class=\"colab-df-container\">\n",
              "      <div>\n",
              "<style scoped>\n",
              "    .dataframe tbody tr th:only-of-type {\n",
              "        vertical-align: middle;\n",
              "    }\n",
              "\n",
              "    .dataframe tbody tr th {\n",
              "        vertical-align: top;\n",
              "    }\n",
              "\n",
              "    .dataframe thead th {\n",
              "        text-align: right;\n",
              "    }\n",
              "</style>\n",
              "<table border=\"1\" class=\"dataframe\">\n",
              "  <thead>\n",
              "    <tr style=\"text-align: right;\">\n",
              "      <th></th>\n",
              "      <th>mean</th>\n",
              "      <th>std</th>\n",
              "    </tr>\n",
              "  </thead>\n",
              "  <tbody>\n",
              "    <tr>\n",
              "      <th>fit_time</th>\n",
              "      <td>60.009979</td>\n",
              "      <td>3.532306</td>\n",
              "    </tr>\n",
              "    <tr>\n",
              "      <th>score_time</th>\n",
              "      <td>1.747328</td>\n",
              "      <td>0.142359</td>\n",
              "    </tr>\n",
              "    <tr>\n",
              "      <th>test_roc_auc</th>\n",
              "      <td>0.701073</td>\n",
              "      <td>0.004412</td>\n",
              "    </tr>\n",
              "    <tr>\n",
              "      <th>test_f1</th>\n",
              "      <td>0.883039</td>\n",
              "      <td>0.001099</td>\n",
              "    </tr>\n",
              "    <tr>\n",
              "      <th>test_accuracy</th>\n",
              "      <td>0.801846</td>\n",
              "      <td>0.002034</td>\n",
              "    </tr>\n",
              "  </tbody>\n",
              "</table>\n",
              "</div>\n",
              "      <button class=\"colab-df-convert\" onclick=\"convertToInteractive('df-80ac3615-0c1e-456d-9dd9-37d69b2b4319')\"\n",
              "              title=\"Convert this dataframe to an interactive table.\"\n",
              "              style=\"display:none;\">\n",
              "\n",
              "  <svg xmlns=\"http://www.w3.org/2000/svg\" height=\"24px\"viewBox=\"0 0 24 24\"\n",
              "       width=\"24px\">\n",
              "    <path d=\"M0 0h24v24H0V0z\" fill=\"none\"/>\n",
              "    <path d=\"M18.56 5.44l.94 2.06.94-2.06 2.06-.94-2.06-.94-.94-2.06-.94 2.06-2.06.94zm-11 1L8.5 8.5l.94-2.06 2.06-.94-2.06-.94L8.5 2.5l-.94 2.06-2.06.94zm10 10l.94 2.06.94-2.06 2.06-.94-2.06-.94-.94-2.06-.94 2.06-2.06.94z\"/><path d=\"M17.41 7.96l-1.37-1.37c-.4-.4-.92-.59-1.43-.59-.52 0-1.04.2-1.43.59L10.3 9.45l-7.72 7.72c-.78.78-.78 2.05 0 2.83L4 21.41c.39.39.9.59 1.41.59.51 0 1.02-.2 1.41-.59l7.78-7.78 2.81-2.81c.8-.78.8-2.07 0-2.86zM5.41 20L4 18.59l7.72-7.72 1.47 1.35L5.41 20z\"/>\n",
              "  </svg>\n",
              "      </button>\n",
              "\n",
              "\n",
              "\n",
              "    <div id=\"df-db35c82f-0ab2-428a-98f7-3e3fce81c1a0\">\n",
              "      <button class=\"colab-df-quickchart\" onclick=\"quickchart('df-db35c82f-0ab2-428a-98f7-3e3fce81c1a0')\"\n",
              "              title=\"Suggest charts.\"\n",
              "              style=\"display:none;\">\n",
              "\n",
              "<svg xmlns=\"http://www.w3.org/2000/svg\" height=\"24px\"viewBox=\"0 0 24 24\"\n",
              "     width=\"24px\">\n",
              "    <g>\n",
              "        <path d=\"M19 3H5c-1.1 0-2 .9-2 2v14c0 1.1.9 2 2 2h14c1.1 0 2-.9 2-2V5c0-1.1-.9-2-2-2zM9 17H7v-7h2v7zm4 0h-2V7h2v10zm4 0h-2v-4h2v4z\"/>\n",
              "    </g>\n",
              "</svg>\n",
              "      </button>\n",
              "    </div>\n",
              "\n",
              "<style>\n",
              "  .colab-df-quickchart {\n",
              "    background-color: #E8F0FE;\n",
              "    border: none;\n",
              "    border-radius: 50%;\n",
              "    cursor: pointer;\n",
              "    display: none;\n",
              "    fill: #1967D2;\n",
              "    height: 32px;\n",
              "    padding: 0 0 0 0;\n",
              "    width: 32px;\n",
              "  }\n",
              "\n",
              "  .colab-df-quickchart:hover {\n",
              "    background-color: #E2EBFA;\n",
              "    box-shadow: 0px 1px 2px rgba(60, 64, 67, 0.3), 0px 1px 3px 1px rgba(60, 64, 67, 0.15);\n",
              "    fill: #174EA6;\n",
              "  }\n",
              "\n",
              "  [theme=dark] .colab-df-quickchart {\n",
              "    background-color: #3B4455;\n",
              "    fill: #D2E3FC;\n",
              "  }\n",
              "\n",
              "  [theme=dark] .colab-df-quickchart:hover {\n",
              "    background-color: #434B5C;\n",
              "    box-shadow: 0px 1px 3px 1px rgba(0, 0, 0, 0.15);\n",
              "    filter: drop-shadow(0px 1px 2px rgba(0, 0, 0, 0.3));\n",
              "    fill: #FFFFFF;\n",
              "  }\n",
              "</style>\n",
              "\n",
              "    <script>\n",
              "      async function quickchart(key) {\n",
              "        const containerElement = document.querySelector('#' + key);\n",
              "        const charts = await google.colab.kernel.invokeFunction(\n",
              "            'suggestCharts', [key], {});\n",
              "      }\n",
              "    </script>\n",
              "\n",
              "      <script>\n",
              "\n",
              "function displayQuickchartButton(domScope) {\n",
              "  let quickchartButtonEl =\n",
              "    domScope.querySelector('#df-db35c82f-0ab2-428a-98f7-3e3fce81c1a0 button.colab-df-quickchart');\n",
              "  quickchartButtonEl.style.display =\n",
              "    google.colab.kernel.accessAllowed ? 'block' : 'none';\n",
              "}\n",
              "\n",
              "        displayQuickchartButton(document);\n",
              "      </script>\n",
              "      <style>\n",
              "    .colab-df-container {\n",
              "      display:flex;\n",
              "      flex-wrap:wrap;\n",
              "      gap: 12px;\n",
              "    }\n",
              "\n",
              "    .colab-df-convert {\n",
              "      background-color: #E8F0FE;\n",
              "      border: none;\n",
              "      border-radius: 50%;\n",
              "      cursor: pointer;\n",
              "      display: none;\n",
              "      fill: #1967D2;\n",
              "      height: 32px;\n",
              "      padding: 0 0 0 0;\n",
              "      width: 32px;\n",
              "    }\n",
              "\n",
              "    .colab-df-convert:hover {\n",
              "      background-color: #E2EBFA;\n",
              "      box-shadow: 0px 1px 2px rgba(60, 64, 67, 0.3), 0px 1px 3px 1px rgba(60, 64, 67, 0.15);\n",
              "      fill: #174EA6;\n",
              "    }\n",
              "\n",
              "    [theme=dark] .colab-df-convert {\n",
              "      background-color: #3B4455;\n",
              "      fill: #D2E3FC;\n",
              "    }\n",
              "\n",
              "    [theme=dark] .colab-df-convert:hover {\n",
              "      background-color: #434B5C;\n",
              "      box-shadow: 0px 1px 3px 1px rgba(0, 0, 0, 0.15);\n",
              "      filter: drop-shadow(0px 1px 2px rgba(0, 0, 0, 0.3));\n",
              "      fill: #FFFFFF;\n",
              "    }\n",
              "  </style>\n",
              "\n",
              "      <script>\n",
              "        const buttonEl =\n",
              "          document.querySelector('#df-80ac3615-0c1e-456d-9dd9-37d69b2b4319 button.colab-df-convert');\n",
              "        buttonEl.style.display =\n",
              "          google.colab.kernel.accessAllowed ? 'block' : 'none';\n",
              "\n",
              "        async function convertToInteractive(key) {\n",
              "          const element = document.querySelector('#df-80ac3615-0c1e-456d-9dd9-37d69b2b4319');\n",
              "          const dataTable =\n",
              "            await google.colab.kernel.invokeFunction('convertToInteractive',\n",
              "                                                     [key], {});\n",
              "          if (!dataTable) return;\n",
              "\n",
              "          const docLinkHtml = 'Like what you see? Visit the ' +\n",
              "            '<a target=\"_blank\" href=https://colab.research.google.com/notebooks/data_table.ipynb>data table notebook</a>'\n",
              "            + ' to learn more about interactive tables.';\n",
              "          element.innerHTML = '';\n",
              "          dataTable['output_type'] = 'display_data';\n",
              "          await google.colab.output.renderOutput(dataTable, element);\n",
              "          const docLink = document.createElement('div');\n",
              "          docLink.innerHTML = docLinkHtml;\n",
              "          element.appendChild(docLink);\n",
              "        }\n",
              "      </script>\n",
              "    </div>\n",
              "  </div>\n"
            ]
          },
          "metadata": {},
          "execution_count": 36
        }
      ]
    },
    {
      "cell_type": "code",
      "source": [
        "rf = RandomForestClassifier().fit(X,Y)"
      ],
      "metadata": {
        "id": "h3gPX2X6MdWV"
      },
      "id": "h3gPX2X6MdWV",
      "execution_count": null,
      "outputs": []
    },
    {
      "cell_type": "code",
      "source": [
        "import matplotlib.pyplot as plt"
      ],
      "metadata": {
        "id": "RlHZbM9CpEFP"
      },
      "id": "RlHZbM9CpEFP",
      "execution_count": null,
      "outputs": []
    },
    {
      "cell_type": "code",
      "source": [
        "importances = rf.feature_importances_\n",
        "indices = np.argsort(importances)\n",
        "\n",
        "plt.title('Feature Importances')\n",
        "plt.barh(range(len(indices)), importances[indices], color='b', align='center')\n",
        "plt.yticks(range(len(indices)), [columns[i] for i in indices])\n",
        "plt.xlabel('Relative Importance')\n",
        "plt.show()"
      ],
      "metadata": {
        "colab": {
          "base_uri": "https://localhost:8080/",
          "height": 472
        },
        "id": "9amISlpIk9f8",
        "outputId": "d1c23959-4873-40c5-e4fa-3dbbb3de7aa5"
      },
      "id": "9amISlpIk9f8",
      "execution_count": null,
      "outputs": [
        {
          "output_type": "display_data",
          "data": {
            "text/plain": [
              "<Figure size 640x480 with 1 Axes>"
            ],
            "image/png": "[encoded data removed]"
          },
          "metadata": {}
        }
      ]
    },
    {
      "cell_type": "markdown",
      "source": [
        "# Classificação multiclasse\n",
        "\n",
        "Ao invés da classificação binária, vamos usar o Random Forest para prever diretamente o review score, que tem 5 categorias. O gráfico a seguir mostra a frequência de cada score"
      ],
      "metadata": {
        "id": "Oox_HVm2rAQQ"
      },
      "id": "Oox_HVm2rAQQ"
    },
    {
      "cell_type": "code",
      "source": [
        "df['review_score'].value_counts().plot(kind='bar')"
      ],
      "metadata": {
        "colab": {
          "base_uri": "https://localhost:8080/",
          "height": 442
        },
        "id": "jP8cZyJbrSdY",
        "outputId": "9db20008-9d44-4508-a4bf-90e7b7811a3a"
      },
      "id": "jP8cZyJbrSdY",
      "execution_count": null,
      "outputs": [
        {
          "output_type": "execute_result",
          "data": {
            "text/plain": [
              "<Axes: >"
            ]
          },
          "metadata": {},
          "execution_count": 40
        },
        {
          "output_type": "display_data",
          "data": {
            "text/plain": [
              "<Figure size 640x480 with 1 Axes>"
            ],
            "image/png": "[encoded data removed]"
          },
          "metadata": {}
        }
      ]
    },
    {
      "cell_type": "markdown",
      "source": [
        "Vamos recriar a base de treino e teste, agora usando o `review_score`"
      ],
      "metadata": {
        "id": "Y5aV2B0cz4P-"
      },
      "id": "Y5aV2B0cz4P-"
    },
    {
      "cell_type": "code",
      "source": [
        "data = df[columns + ['review_score']].dropna(axis = 0, how = 'any')\n",
        "Xmulti = data[columns]\n",
        "Ymulti = data['review_score']"
      ],
      "metadata": {
        "id": "0hMzzoCOq2Cw"
      },
      "id": "0hMzzoCOq2Cw",
      "execution_count": null,
      "outputs": []
    },
    {
      "cell_type": "markdown",
      "source": [
        "Vamos também importar os métodos para calcular e plotar a matriz de confusão:"
      ],
      "metadata": {
        "id": "otLDIgze0BZs"
      },
      "id": "otLDIgze0BZs"
    },
    {
      "cell_type": "code",
      "source": [
        "from sklearn.metrics import confusion_matrix, ConfusionMatrixDisplay\n"
      ],
      "metadata": {
        "id": "gHWKAmKbuxGF"
      },
      "id": "gHWKAmKbuxGF",
      "execution_count": null,
      "outputs": []
    },
    {
      "cell_type": "markdown",
      "source": [
        "E usar um laço para fazer a validação cruzada estratificada. Em cada iteração do lavo, armazenamos a matriz de confusão daquela iteração, e mostramos o relatório de classificação"
      ],
      "metadata": {
        "id": "iNF_-i4Q0Mgv"
      },
      "id": "iNF_-i4Q0Mgv"
    },
    {
      "cell_type": "code",
      "source": [
        "rf = RandomForestClassifier()\n",
        "\n",
        "confusion_matrices = []\n",
        "\n",
        "for train, test in skf.split(Xmulti, Ymulti):\n",
        "  rf.fit(Xmulti.iloc[train],Ymulti.iloc[train])\n",
        "  predictions = rf.predict(Xmulti.iloc[test])\n",
        "  print(classification_report(Y.iloc[test], predictions))\n",
        "  confusion_matrices.append(confusion_matrix(Ymulti.iloc[test],predictions))"
      ],
      "metadata": {
        "colab": {
          "base_uri": "https://localhost:8080/"
        },
        "id": "EpqGckr7uTP-",
        "outputId": "4ea16500-ed16-48c8-9f87-1b806080bc21"
      },
      "id": "EpqGckr7uTP-",
      "execution_count": null,
      "outputs": [
        {
          "output_type": "stream",
          "name": "stderr",
          "text": [
            "/usr/local/lib/python3.10/dist-packages/sklearn/metrics/_classification.py:1344: UndefinedMetricWarning: Precision and F-score are ill-defined and being set to 0.0 in labels with no predicted samples. Use `zero_division` parameter to control this behavior.\n",
            "  _warn_prf(average, modifier, msg_start, len(result))\n",
            "/usr/local/lib/python3.10/dist-packages/sklearn/metrics/_classification.py:1344: UndefinedMetricWarning: Recall and F-score are ill-defined and being set to 0.0 in labels with no true samples. Use `zero_division` parameter to control this behavior.\n",
            "  _warn_prf(average, modifier, msg_start, len(result))\n",
            "/usr/local/lib/python3.10/dist-packages/sklearn/metrics/_classification.py:1344: UndefinedMetricWarning: Precision and F-score are ill-defined and being set to 0.0 in labels with no predicted samples. Use `zero_division` parameter to control this behavior.\n",
            "  _warn_prf(average, modifier, msg_start, len(result))\n",
            "/usr/local/lib/python3.10/dist-packages/sklearn/metrics/_classification.py:1344: UndefinedMetricWarning: Recall and F-score are ill-defined and being set to 0.0 in labels with no true samples. Use `zero_division` parameter to control this behavior.\n",
            "  _warn_prf(average, modifier, msg_start, len(result))\n",
            "/usr/local/lib/python3.10/dist-packages/sklearn/metrics/_classification.py:1344: UndefinedMetricWarning: Precision and F-score are ill-defined and being set to 0.0 in labels with no predicted samples. Use `zero_division` parameter to control this behavior.\n",
            "  _warn_prf(average, modifier, msg_start, len(result))\n",
            "/usr/local/lib/python3.10/dist-packages/sklearn/metrics/_classification.py:1344: UndefinedMetricWarning: Recall and F-score are ill-defined and being set to 0.0 in labels with no true samples. Use `zero_division` parameter to control this behavior.\n",
            "  _warn_prf(average, modifier, msg_start, len(result))\n"
          ]
        },
        {
          "output_type": "stream",
          "name": "stdout",
          "text": [
            "              precision    recall  f1-score   support\n",
            "\n",
            "           0       0.00      0.00      0.00      5225\n",
            "           1       0.22      0.02      0.03     17310\n",
            "           2       0.00      0.00      0.00         0\n",
            "           3       0.00      0.00      0.00         0\n",
            "           4       0.00      0.00      0.00         0\n",
            "           5       0.00      0.00      0.00         0\n",
            "\n",
            "    accuracy                           0.01     22535\n",
            "   macro avg       0.04      0.00      0.01     22535\n",
            "weighted avg       0.17      0.01      0.03     22535\n",
            "\n"
          ]
        },
        {
          "output_type": "stream",
          "name": "stderr",
          "text": [
            "/usr/local/lib/python3.10/dist-packages/sklearn/metrics/_classification.py:1344: UndefinedMetricWarning: Precision and F-score are ill-defined and being set to 0.0 in labels with no predicted samples. Use `zero_division` parameter to control this behavior.\n",
            "  _warn_prf(average, modifier, msg_start, len(result))\n",
            "/usr/local/lib/python3.10/dist-packages/sklearn/metrics/_classification.py:1344: UndefinedMetricWarning: Recall and F-score are ill-defined and being set to 0.0 in labels with no true samples. Use `zero_division` parameter to control this behavior.\n",
            "  _warn_prf(average, modifier, msg_start, len(result))\n",
            "/usr/local/lib/python3.10/dist-packages/sklearn/metrics/_classification.py:1344: UndefinedMetricWarning: Precision and F-score are ill-defined and being set to 0.0 in labels with no predicted samples. Use `zero_division` parameter to control this behavior.\n",
            "  _warn_prf(average, modifier, msg_start, len(result))\n",
            "/usr/local/lib/python3.10/dist-packages/sklearn/metrics/_classification.py:1344: UndefinedMetricWarning: Recall and F-score are ill-defined and being set to 0.0 in labels with no true samples. Use `zero_division` parameter to control this behavior.\n",
            "  _warn_prf(average, modifier, msg_start, len(result))\n",
            "/usr/local/lib/python3.10/dist-packages/sklearn/metrics/_classification.py:1344: UndefinedMetricWarning: Precision and F-score are ill-defined and being set to 0.0 in labels with no predicted samples. Use `zero_division` parameter to control this behavior.\n",
            "  _warn_prf(average, modifier, msg_start, len(result))\n",
            "/usr/local/lib/python3.10/dist-packages/sklearn/metrics/_classification.py:1344: UndefinedMetricWarning: Recall and F-score are ill-defined and being set to 0.0 in labels with no true samples. Use `zero_division` parameter to control this behavior.\n",
            "  _warn_prf(average, modifier, msg_start, len(result))\n"
          ]
        },
        {
          "output_type": "stream",
          "name": "stdout",
          "text": [
            "              precision    recall  f1-score   support\n",
            "\n",
            "           0       0.00      0.00      0.00      5225\n",
            "           1       0.19      0.01      0.03     17310\n",
            "           2       0.00      0.00      0.00         0\n",
            "           3       0.00      0.00      0.00         0\n",
            "           4       0.00      0.00      0.00         0\n",
            "           5       0.00      0.00      0.00         0\n",
            "\n",
            "    accuracy                           0.01     22535\n",
            "   macro avg       0.03      0.00      0.00     22535\n",
            "weighted avg       0.14      0.01      0.02     22535\n",
            "\n"
          ]
        },
        {
          "output_type": "stream",
          "name": "stderr",
          "text": [
            "/usr/local/lib/python3.10/dist-packages/sklearn/metrics/_classification.py:1344: UndefinedMetricWarning: Precision and F-score are ill-defined and being set to 0.0 in labels with no predicted samples. Use `zero_division` parameter to control this behavior.\n",
            "  _warn_prf(average, modifier, msg_start, len(result))\n",
            "/usr/local/lib/python3.10/dist-packages/sklearn/metrics/_classification.py:1344: UndefinedMetricWarning: Recall and F-score are ill-defined and being set to 0.0 in labels with no true samples. Use `zero_division` parameter to control this behavior.\n",
            "  _warn_prf(average, modifier, msg_start, len(result))\n",
            "/usr/local/lib/python3.10/dist-packages/sklearn/metrics/_classification.py:1344: UndefinedMetricWarning: Precision and F-score are ill-defined and being set to 0.0 in labels with no predicted samples. Use `zero_division` parameter to control this behavior.\n",
            "  _warn_prf(average, modifier, msg_start, len(result))\n",
            "/usr/local/lib/python3.10/dist-packages/sklearn/metrics/_classification.py:1344: UndefinedMetricWarning: Recall and F-score are ill-defined and being set to 0.0 in labels with no true samples. Use `zero_division` parameter to control this behavior.\n",
            "  _warn_prf(average, modifier, msg_start, len(result))\n",
            "/usr/local/lib/python3.10/dist-packages/sklearn/metrics/_classification.py:1344: UndefinedMetricWarning: Precision and F-score are ill-defined and being set to 0.0 in labels with no predicted samples. Use `zero_division` parameter to control this behavior.\n",
            "  _warn_prf(average, modifier, msg_start, len(result))\n",
            "/usr/local/lib/python3.10/dist-packages/sklearn/metrics/_classification.py:1344: UndefinedMetricWarning: Recall and F-score are ill-defined and being set to 0.0 in labels with no true samples. Use `zero_division` parameter to control this behavior.\n",
            "  _warn_prf(average, modifier, msg_start, len(result))\n"
          ]
        },
        {
          "output_type": "stream",
          "name": "stdout",
          "text": [
            "              precision    recall  f1-score   support\n",
            "\n",
            "           0       0.00      0.00      0.00      5225\n",
            "           1       0.21      0.02      0.03     17310\n",
            "           2       0.00      0.00      0.00         0\n",
            "           3       0.00      0.00      0.00         0\n",
            "           4       0.00      0.00      0.00         0\n",
            "           5       0.00      0.00      0.00         0\n",
            "\n",
            "    accuracy                           0.01     22535\n",
            "   macro avg       0.04      0.00      0.01     22535\n",
            "weighted avg       0.16      0.01      0.02     22535\n",
            "\n"
          ]
        },
        {
          "output_type": "stream",
          "name": "stderr",
          "text": [
            "/usr/local/lib/python3.10/dist-packages/sklearn/metrics/_classification.py:1344: UndefinedMetricWarning: Precision and F-score are ill-defined and being set to 0.0 in labels with no predicted samples. Use `zero_division` parameter to control this behavior.\n",
            "  _warn_prf(average, modifier, msg_start, len(result))\n",
            "/usr/local/lib/python3.10/dist-packages/sklearn/metrics/_classification.py:1344: UndefinedMetricWarning: Recall and F-score are ill-defined and being set to 0.0 in labels with no true samples. Use `zero_division` parameter to control this behavior.\n",
            "  _warn_prf(average, modifier, msg_start, len(result))\n",
            "/usr/local/lib/python3.10/dist-packages/sklearn/metrics/_classification.py:1344: UndefinedMetricWarning: Precision and F-score are ill-defined and being set to 0.0 in labels with no predicted samples. Use `zero_division` parameter to control this behavior.\n",
            "  _warn_prf(average, modifier, msg_start, len(result))\n",
            "/usr/local/lib/python3.10/dist-packages/sklearn/metrics/_classification.py:1344: UndefinedMetricWarning: Recall and F-score are ill-defined and being set to 0.0 in labels with no true samples. Use `zero_division` parameter to control this behavior.\n",
            "  _warn_prf(average, modifier, msg_start, len(result))\n",
            "/usr/local/lib/python3.10/dist-packages/sklearn/metrics/_classification.py:1344: UndefinedMetricWarning: Precision and F-score are ill-defined and being set to 0.0 in labels with no predicted samples. Use `zero_division` parameter to control this behavior.\n",
            "  _warn_prf(average, modifier, msg_start, len(result))\n",
            "/usr/local/lib/python3.10/dist-packages/sklearn/metrics/_classification.py:1344: UndefinedMetricWarning: Recall and F-score are ill-defined and being set to 0.0 in labels with no true samples. Use `zero_division` parameter to control this behavior.\n",
            "  _warn_prf(average, modifier, msg_start, len(result))\n"
          ]
        },
        {
          "output_type": "stream",
          "name": "stdout",
          "text": [
            "              precision    recall  f1-score   support\n",
            "\n",
            "           0       0.00      0.00      0.00      5225\n",
            "           1       0.22      0.02      0.03     17310\n",
            "           2       0.00      0.00      0.00         0\n",
            "           3       0.00      0.00      0.00         0\n",
            "           4       0.00      0.00      0.00         0\n",
            "           5       0.00      0.00      0.00         0\n",
            "\n",
            "    accuracy                           0.01     22535\n",
            "   macro avg       0.04      0.00      0.01     22535\n",
            "weighted avg       0.17      0.01      0.02     22535\n",
            "\n",
            "              precision    recall  f1-score   support\n",
            "\n",
            "           0       0.00      0.00      0.00      5225\n",
            "           1       0.24      0.02      0.03     17310\n",
            "           2       0.00      0.00      0.00         0\n",
            "           3       0.00      0.00      0.00         0\n",
            "           4       0.00      0.00      0.00         0\n",
            "           5       0.00      0.00      0.00         0\n",
            "\n",
            "    accuracy                           0.01     22535\n",
            "   macro avg       0.04      0.00      0.01     22535\n",
            "weighted avg       0.18      0.01      0.03     22535\n",
            "\n"
          ]
        },
        {
          "output_type": "stream",
          "name": "stderr",
          "text": [
            "/usr/local/lib/python3.10/dist-packages/sklearn/metrics/_classification.py:1344: UndefinedMetricWarning: Precision and F-score are ill-defined and being set to 0.0 in labels with no predicted samples. Use `zero_division` parameter to control this behavior.\n",
            "  _warn_prf(average, modifier, msg_start, len(result))\n",
            "/usr/local/lib/python3.10/dist-packages/sklearn/metrics/_classification.py:1344: UndefinedMetricWarning: Recall and F-score are ill-defined and being set to 0.0 in labels with no true samples. Use `zero_division` parameter to control this behavior.\n",
            "  _warn_prf(average, modifier, msg_start, len(result))\n",
            "/usr/local/lib/python3.10/dist-packages/sklearn/metrics/_classification.py:1344: UndefinedMetricWarning: Precision and F-score are ill-defined and being set to 0.0 in labels with no predicted samples. Use `zero_division` parameter to control this behavior.\n",
            "  _warn_prf(average, modifier, msg_start, len(result))\n",
            "/usr/local/lib/python3.10/dist-packages/sklearn/metrics/_classification.py:1344: UndefinedMetricWarning: Recall and F-score are ill-defined and being set to 0.0 in labels with no true samples. Use `zero_division` parameter to control this behavior.\n",
            "  _warn_prf(average, modifier, msg_start, len(result))\n",
            "/usr/local/lib/python3.10/dist-packages/sklearn/metrics/_classification.py:1344: UndefinedMetricWarning: Precision and F-score are ill-defined and being set to 0.0 in labels with no predicted samples. Use `zero_division` parameter to control this behavior.\n",
            "  _warn_prf(average, modifier, msg_start, len(result))\n",
            "/usr/local/lib/python3.10/dist-packages/sklearn/metrics/_classification.py:1344: UndefinedMetricWarning: Recall and F-score are ill-defined and being set to 0.0 in labels with no true samples. Use `zero_division` parameter to control this behavior.\n",
            "  _warn_prf(average, modifier, msg_start, len(result))\n"
          ]
        }
      ]
    },
    {
      "cell_type": "markdown",
      "source": [
        "Finalmente, mostra a matriz de confusão. Como fizemos validação cruzada, a matriz final é a soma de cada uma das matrizes:"
      ],
      "metadata": {
        "id": "LdXrqoFM0ctt"
      },
      "id": "LdXrqoFM0ctt"
    },
    {
      "cell_type": "code",
      "source": [
        "disp = ConfusionMatrixDisplay(confusion_matrix=sum(confusion_matrices),display_labels=rf.classes_)\n",
        "disp.plot()"
      ],
      "metadata": {
        "colab": {
          "base_uri": "https://localhost:8080/",
          "height": 466
        },
        "id": "vOwXaAnpw77K",
        "outputId": "a65d64cb-ec65-422a-9455-35a57d99fe34"
      },
      "id": "vOwXaAnpw77K",
      "execution_count": null,
      "outputs": [
        {
          "output_type": "execute_result",
          "data": {
            "text/plain": [
              "<sklearn.metrics._plot.confusion_matrix.ConfusionMatrixDisplay at 0x7c0013a8e9b0>"
            ]
          },
          "metadata": {},
          "execution_count": 44
        },
        {
          "output_type": "display_data",
          "data": {
            "text/plain": [
              "<Figure size 640x480 with 2 Axes>"
            ],
            "image/png": "[encoded data removed]"
          },
          "metadata": {}
        }
      ]
    }
  ],
  "metadata": {
    "colab": {
      "provenance": [],
      "include_colab_link": true
    },
    "kernelspec": {
      "display_name": "Python 3 (ipykernel)",
      "language": "python",
      "name": "python3"
    },
    "language_info": {
      "codemirror_mode": {
        "name": "ipython",
        "version": 3
      },
      "file_extension": ".py",
      "mimetype": "text/x-python",
      "name": "python",
      "nbconvert_exporter": "python",
      "pygments_lexer": "ipython3",
      "version": "3.9.13"
    }
  },
  "nbformat": 4,
  "nbformat_minor": 5
}