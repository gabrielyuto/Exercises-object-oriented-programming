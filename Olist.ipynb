{
  "cells": [
    {
      "cell_type": "markdown",
      "metadata": {
        "id": "view-in-github",
        "colab_type": "text"
      },
      "source": [
        "<a href=\"https://colab.research.google.com/github/gabrielyuto/Exercises-object-oriented-programming/blob/master/Olist.ipynb\" target=\"_parent\"><img src=\"https://colab.research.google.com/assets/colab-badge.svg\" alt=\"Open In Colab\"/></a>"
      ]
    },
    {
      "cell_type": "markdown",
      "id": "9624ecf9-991b-4430-8568-9c4cdc9bc193",
      "metadata": {
        "id": "9624ecf9-991b-4430-8568-9c4cdc9bc193"
      },
      "source": [
        "# Análise da base de dados da empresa Olist\n",
        "\n",
        "O conjunto Olist é um conjunto de dados públicos de comércio eletrônico brasileiro de pedidos feitos na loja Olist. O conjunto de dados contém informações de cerca de 100 mil pedidos feitos entre 2016 a 2018 em vários marketplaces no Brasil. Suas características permitem visualizar um pedido a partir de múltiplas dimensões: desde o status do pedido, preço, desempenho de pagamento e frete até a localização do cliente, atributos do produto e, finalmente, avaliações escritas pelos clientes. Também lançamos um conjunto de dados de geolocalização que relaciona os códigos postais brasileiros às coordenadas de latitude/longitude.\n",
        "\n",
        "Estes são dados comerciais reais, que foram anonimizados e as referências às empresas e parceiros no texto da avaliação foram substituídas pelos nomes das grandes casas de Game of Thrones.\n",
        "\n"
      ]
    },
    {
      "cell_type": "markdown",
      "id": "bfd9d0ef-1199-4657-940e-a38ef6b1b885",
      "metadata": {
        "id": "bfd9d0ef-1199-4657-940e-a38ef6b1b885"
      },
      "source": [
        "## Descompactando os arquivos\n",
        "\n",
        "O arquivo compactado `archive.zip` contém os dados divididos em tabelas. Coloque-o na mesma pasta do notebook, ou se estiver usando o google colab, faça o upload do arquivo. A célua a seguir faz a descompatação dos dados"
      ]
    },
    {
      "cell_type": "code",
      "execution_count": null,
      "id": "ee8458f3-31d7-46fc-9b62-c8f8b2c83dfd",
      "metadata": {
        "id": "ee8458f3-31d7-46fc-9b62-c8f8b2c83dfd"
      },
      "outputs": [],
      "source": [
        "#!unzip archive.zip"
      ]
    },
    {
      "cell_type": "markdown",
      "id": "0089cb8c-f61b-47b6-9585-de18a43cd519",
      "metadata": {
        "id": "0089cb8c-f61b-47b6-9585-de18a43cd519"
      },
      "source": [
        "## Bibliotecas\n",
        "\n",
        "A biblioteca `pandas` é bastante útil para carregar e manipular os dados.\n",
        "A biblioteca `geopy` nos permite calcular distâncias a partir das coordenadas cartesianas (latitude e longitude)"
      ]
    },
    {
      "cell_type": "code",
      "execution_count": null,
      "id": "96622c11-0f90-4bc8-a154-67ea1334ae55",
      "metadata": {
        "id": "96622c11-0f90-4bc8-a154-67ea1334ae55"
      },
      "outputs": [],
      "source": [
        "#!pip install geopy"
      ]
    },
    {
      "cell_type": "code",
      "execution_count": null,
      "id": "39686602-2563-4f28-9412-4d0e5d2048b5",
      "metadata": {
        "tags": [],
        "id": "39686602-2563-4f28-9412-4d0e5d2048b5"
      },
      "outputs": [],
      "source": [
        "import pandas as pd\n",
        "import geopy.distance as gp"
      ]
    },
    {
      "cell_type": "markdown",
      "id": "273862ad-9b90-461b-8e3d-c6b767dbd9ca",
      "metadata": {
        "id": "273862ad-9b90-461b-8e3d-c6b767dbd9ca"
      },
      "source": [
        "## Tabela de Pedidos\n",
        "\n",
        "Vamos começar analisando a tabela de pedidos. Ela se chama `olist_orders_dataset.csv`."
      ]
    },
    {
      "cell_type": "code",
      "execution_count": null,
      "id": "786b105d-57fa-4620-8aa7-26964d2a0ec1",
      "metadata": {
        "id": "786b105d-57fa-4620-8aa7-26964d2a0ec1"
      },
      "outputs": [],
      "source": [
        "df_order = pd.read_csv(\"olist_orders_dataset.csv\")"
      ]
    },
    {
      "cell_type": "markdown",
      "id": "0fa06899-3680-4191-9c68-8152487d5341",
      "metadata": {
        "id": "0fa06899-3680-4191-9c68-8152487d5341"
      },
      "source": [
        "Vamos observar as primeiras linhas da base de dados"
      ]
    },
    {
      "cell_type": "code",
      "execution_count": null,
      "id": "4897879c-8f7b-4fc7-8a90-c251c47c3b64",
      "metadata": {
        "id": "4897879c-8f7b-4fc7-8a90-c251c47c3b64"
      },
      "outputs": [],
      "source": [
        "df_order.head()"
      ]
    },
    {
      "cell_type": "markdown",
      "id": "bd7e93ac-4168-4b39-ac18-cc2b326f6f91",
      "metadata": {
        "id": "bd7e93ac-4168-4b39-ac18-cc2b326f6f91"
      },
      "source": [
        "Vamos olhar a frequência status dos pedidos:"
      ]
    },
    {
      "cell_type": "code",
      "execution_count": null,
      "id": "02c45e1c-82eb-4330-9214-dd1f38f46a11",
      "metadata": {
        "id": "02c45e1c-82eb-4330-9214-dd1f38f46a11"
      },
      "outputs": [],
      "source": [
        "df_order['order_status'].value_counts()"
      ]
    },
    {
      "cell_type": "markdown",
      "id": "987dbeb1-a1a9-411b-83de-7598c2d4826f",
      "metadata": {
        "id": "987dbeb1-a1a9-411b-83de-7598c2d4826f"
      },
      "source": [
        "E graficamente:"
      ]
    },
    {
      "cell_type": "code",
      "execution_count": null,
      "id": "b35941eb-e9b7-41d8-982b-2c7ca6e5202c",
      "metadata": {
        "id": "b35941eb-e9b7-41d8-982b-2c7ca6e5202c"
      },
      "outputs": [],
      "source": [
        "df_order['order_status'].value_counts().plot(kind='bar')"
      ]
    },
    {
      "cell_type": "markdown",
      "id": "b86c33af-35e1-4d90-acb4-6cb09e928f68",
      "metadata": {
        "id": "b86c33af-35e1-4d90-acb4-6cb09e928f68"
      },
      "source": [
        "Como esperado, o número de pedidos já entregues é muito maior que os demais. Vamos usar a eslaca logarítmica para visualizar"
      ]
    },
    {
      "cell_type": "code",
      "execution_count": null,
      "id": "b4410226-a4e2-45cb-bfd8-93d2bdc3fc30",
      "metadata": {
        "id": "b4410226-a4e2-45cb-bfd8-93d2bdc3fc30"
      },
      "outputs": [],
      "source": [
        "df_order['order_status'].value_counts().plot(kind='bar',logy=True)"
      ]
    },
    {
      "cell_type": "markdown",
      "id": "62d12790-9ce0-4ec3-8f2c-bd7f45529b9a",
      "metadata": {
        "id": "62d12790-9ce0-4ec3-8f2c-bd7f45529b9a"
      },
      "source": [
        "## Tempo para entrega\n",
        "\n",
        "Podemos calcular o tempo de entrega fazendo a diferença entre a data da entrega e a data da compra. O `pandas` consegue fazer operações que envolvam datas e horas com facilidade. Entretanto, o `pandas` pode ter carregado as colunas em formato texto (`string`). Podemos converter para o formato de data e hora fazendo:"
      ]
    },
    {
      "cell_type": "code",
      "execution_count": null,
      "id": "910e154b-9e85-43ae-b88d-f5359c4f6752",
      "metadata": {
        "id": "910e154b-9e85-43ae-b88d-f5359c4f6752"
      },
      "outputs": [],
      "source": [
        "df_order['order_purchase_timestamp'] = pd.to_datetime(df_order['order_purchase_timestamp'])"
      ]
    },
    {
      "cell_type": "markdown",
      "id": "9044cd13-0772-4248-9760-c5138d01e701",
      "metadata": {
        "id": "9044cd13-0772-4248-9760-c5138d01e701"
      },
      "source": [
        "A coluna acima a conversão de uma coluna de cada vez. Como temos mais que uma podemos fazer mais de uma conversão ao mesmo tempo selecionando quais são as colunas que envolvam data e hora:"
      ]
    },
    {
      "cell_type": "code",
      "execution_count": null,
      "id": "eca7b26e-f21f-4af7-8338-4ddcaa420061",
      "metadata": {
        "id": "eca7b26e-f21f-4af7-8338-4ddcaa420061"
      },
      "outputs": [],
      "source": [
        "df_order = df_order.assign(**df_order[['order_purchase_timestamp',\n",
        "                           'order_approved_at',\n",
        "                           'order_delivered_carrier_date',\n",
        "                           'order_delivered_customer_date',\n",
        "                           'order_estimated_delivery_date'\n",
        "                          ]]\n",
        "                        .apply(pd.to_datetime))"
      ]
    },
    {
      "cell_type": "markdown",
      "id": "3be89696-f7c6-42a0-9422-2c7a8c02c1bd",
      "metadata": {
        "id": "3be89696-f7c6-42a0-9422-2c7a8c02c1bd"
      },
      "source": [
        "Agora podemos calcular a difereça entre a entrega e a compra:"
      ]
    },
    {
      "cell_type": "code",
      "execution_count": null,
      "id": "6af35fba-2ae6-491f-9b8a-bafa401727c4",
      "metadata": {
        "id": "6af35fba-2ae6-491f-9b8a-bafa401727c4"
      },
      "outputs": [],
      "source": [
        "df_order['deliver_time'] = df_order['order_delivered_customer_date'] - df_order['order_purchase_timestamp']"
      ]
    },
    {
      "cell_type": "markdown",
      "id": "6f6d2f1b-78ed-45e7-a286-59bff3b45e24",
      "metadata": {
        "id": "6f6d2f1b-78ed-45e7-a286-59bff3b45e24"
      },
      "source": [
        "Vamos calcular as estatísticas descritivas para ter uma ideia do tempo de entrega"
      ]
    },
    {
      "cell_type": "code",
      "execution_count": null,
      "id": "a35c85d8-7166-47f2-8743-50dc9a88c909",
      "metadata": {
        "id": "a35c85d8-7166-47f2-8743-50dc9a88c909"
      },
      "outputs": [],
      "source": [
        "df_order['deliver_time'].describe()"
      ]
    },
    {
      "cell_type": "markdown",
      "id": "9f902ee6-a7dc-425e-857e-e0228a7c6da8",
      "metadata": {
        "id": "9f902ee6-a7dc-425e-857e-e0228a7c6da8"
      },
      "source": [
        "O pandas não consegue criar alguns gráficos com diferença de tempo (`timedelta`). Uma alternativa é, por exemplo, conveter para dias. Na célula a seguir, fazemos um boxplot do número de dias:"
      ]
    },
    {
      "cell_type": "code",
      "execution_count": null,
      "id": "e29a8ace-65b6-44b4-836a-617d001ee197",
      "metadata": {
        "id": "e29a8ace-65b6-44b4-836a-617d001ee197"
      },
      "outputs": [],
      "source": [
        "df_order['deliver_time'].astype('timedelta64[D]').plot(kind='box')"
      ]
    },
    {
      "cell_type": "markdown",
      "id": "c11dc690-655b-4d42-be78-21431f9765cb",
      "metadata": {
        "id": "c11dc690-655b-4d42-be78-21431f9765cb"
      },
      "source": [
        "E na célula seguinte, um gráfico da densidade usando o histograma normalizado e uma estimativa não paramétrica (`kde`)"
      ]
    },
    {
      "cell_type": "code",
      "execution_count": null,
      "id": "bffb6369-3bf7-4c59-855c-f9cb0ee5bd79",
      "metadata": {
        "id": "bffb6369-3bf7-4c59-855c-f9cb0ee5bd79"
      },
      "outputs": [],
      "source": [
        "df_order['deliver_time'].astype('timedelta64[D]').plot(kind='hist', density=True, logx=True,bins=50)\n",
        "df_order['deliver_time'].astype('timedelta64[D]').plot(kind='kde', logx=True,xlim=[1,210])"
      ]
    },
    {
      "cell_type": "markdown",
      "id": "0a43b779-e8f2-40cb-97bd-2810aecc6b2e",
      "metadata": {
        "id": "0a43b779-e8f2-40cb-97bd-2810aecc6b2e"
      },
      "source": [
        "Será que o tempo de entrega está relacionado do status do pedido? No gráfico a seguir, criamos um boxplot para cada tipo de status:"
      ]
    },
    {
      "cell_type": "code",
      "execution_count": null,
      "id": "32cdf49c-0d08-4268-bad7-d1ef60172e3f",
      "metadata": {
        "id": "32cdf49c-0d08-4268-bad7-d1ef60172e3f"
      },
      "outputs": [],
      "source": [
        "(df_order\n",
        "     .assign(**df_order[['deliver_time']].astype('timedelta64[D]'))\n",
        "     .plot(kind='box',by='order_status',rot=90)\n",
        ")"
      ]
    },
    {
      "cell_type": "markdown",
      "id": "038afafc-af18-44ce-ac5e-8d7139d5e80a",
      "metadata": {
        "id": "038afafc-af18-44ce-ac5e-8d7139d5e80a"
      },
      "source": [
        "Vamos agora olhar o tempo estimado de entrega. Primeiramente, vamo verificar se o tempo estimado e o tempo real da entrega estão correlacionados. Para isso, vamos calcular o coeficiente de correlação e o criar o gráfico de dispersão (`scatter`). Para calcular o coeficiente de correlação, precisamos converter as datas para um valor numérico, o método que calcula a correlação não é diretamente aplicável a datas e horas:"
      ]
    },
    {
      "cell_type": "code",
      "execution_count": null,
      "id": "bcf3c768-9d70-409f-b681-ce42262d07ee",
      "metadata": {
        "id": "bcf3c768-9d70-409f-b681-ce42262d07ee"
      },
      "outputs": [],
      "source": [
        "df_order.assign(**df_order[['order_estimated_delivery_date',\n",
        "                            'order_delivered_customer_date']]\n",
        "                .apply(pd.to_numeric)).corr()"
      ]
    },
    {
      "cell_type": "code",
      "execution_count": null,
      "id": "7f620d1f-058c-4d6a-97c7-df8ea9a189bf",
      "metadata": {
        "id": "7f620d1f-058c-4d6a-97c7-df8ea9a189bf"
      },
      "outputs": [],
      "source": [
        "g = df_order.plot(x='order_estimated_delivery_date',y='order_delivered_customer_date',kind='scatter')\n",
        "g.set_aspect(1)\n"
      ]
    },
    {
      "cell_type": "markdown",
      "id": "20401233-b397-4cdf-9782-cfb97b009341",
      "metadata": {
        "id": "20401233-b397-4cdf-9782-cfb97b009341"
      },
      "source": [
        "Observando o gráfico e o coeficiente, vemos uma discrepância grande entre eles. O gráfico indica uma forte correlação, mas o coeficiente é proximo de zero. O que aconteceu?\n",
        "\n",
        "Quando convertemos para numérico, o pandas converte para timestamp (o número de segundos desde 1o. de janeiro de 1970). Acontece que esses números são bastante grandes, e gera um problema numérico no cálculo da correlação. Por exemplo, veja as estatisticas descritivas:"
      ]
    },
    {
      "cell_type": "code",
      "execution_count": null,
      "id": "a7614eca-fa41-4f43-8160-428b6140c1a4",
      "metadata": {
        "id": "a7614eca-fa41-4f43-8160-428b6140c1a4"
      },
      "outputs": [],
      "source": [
        "df_order.assign(**df_order[['order_estimated_delivery_date',\n",
        "                            'order_delivered_customer_date']]\n",
        "                .apply(pd.to_numeric))[['order_estimated_delivery_date',\n",
        "                            'order_delivered_customer_date']].describe()"
      ]
    },
    {
      "cell_type": "markdown",
      "id": "844ee548-8532-46ec-93d7-5e2cf627c677",
      "metadata": {
        "id": "844ee548-8532-46ec-93d7-5e2cf627c677"
      },
      "source": [
        "Vamos calcular a correlação de spearman (que converte os valores para o seu posto):"
      ]
    },
    {
      "cell_type": "code",
      "execution_count": null,
      "id": "01fefbc5-e092-4ff1-bb84-a3306041b4e6",
      "metadata": {
        "id": "01fefbc5-e092-4ff1-bb84-a3306041b4e6"
      },
      "outputs": [],
      "source": [
        "df_order.assign(**df_order[['order_estimated_delivery_date',\n",
        "                            'order_delivered_customer_date']]\n",
        "                .apply(pd.to_numeric)).corr(method='spearman')"
      ]
    },
    {
      "cell_type": "markdown",
      "id": "5ef6af20-ac3b-4482-ad4f-bf68a01faba2",
      "metadata": {
        "id": "5ef6af20-ac3b-4482-ad4f-bf68a01faba2"
      },
      "source": [
        "Como pode ser observado, o valor da correlação de Spearman é bem mais condizente com o gráfico"
      ]
    },
    {
      "cell_type": "markdown",
      "id": "cc290400-b437-4812-bf44-089d1a53c574",
      "metadata": {
        "id": "cc290400-b437-4812-bf44-089d1a53c574"
      },
      "source": [
        "Vamos agora calcular o tempo estimado de entrega a partir do pedido:"
      ]
    },
    {
      "cell_type": "code",
      "execution_count": null,
      "id": "9bd8cc39-56d9-4d36-8246-830e4bc870a5",
      "metadata": {
        "id": "9bd8cc39-56d9-4d36-8246-830e4bc870a5"
      },
      "outputs": [],
      "source": [
        "df_order['deliver_estimate'] = df_order['order_estimated_delivery_date'] - df_order['order_purchase_timestamp']"
      ]
    },
    {
      "cell_type": "markdown",
      "id": "a9a3e69e-f3e2-443e-96bb-143e37d83975",
      "metadata": {
        "id": "a9a3e69e-f3e2-443e-96bb-143e37d83975"
      },
      "source": [
        "Como está distribuído o tempo estimado de entrega?"
      ]
    },
    {
      "cell_type": "code",
      "execution_count": null,
      "id": "91f412d2-36c5-4783-98eb-4b22aa729d0d",
      "metadata": {
        "id": "91f412d2-36c5-4783-98eb-4b22aa729d0d"
      },
      "outputs": [],
      "source": [
        "df_order['deliver_estimate'].describe()"
      ]
    },
    {
      "cell_type": "code",
      "execution_count": null,
      "id": "6bace734-324b-4fa5-977d-5aab1bf983ff",
      "metadata": {
        "id": "6bace734-324b-4fa5-977d-5aab1bf983ff"
      },
      "outputs": [],
      "source": [
        "df_order['deliver_estimate'].astype('timedelta64[D]').plot(kind='box')"
      ]
    },
    {
      "cell_type": "markdown",
      "id": "c4e32ff6-33ae-4500-8690-b8a338edee4b",
      "metadata": {
        "id": "c4e32ff6-33ae-4500-8690-b8a338edee4b"
      },
      "source": [
        "O tempo estimado e o tempo de entrega estão correlacionados?"
      ]
    },
    {
      "cell_type": "code",
      "execution_count": null,
      "id": "72ae5a29-9e0e-4e19-a5a8-0329ae489972",
      "metadata": {
        "id": "72ae5a29-9e0e-4e19-a5a8-0329ae489972"
      },
      "outputs": [],
      "source": [
        "df_order.assign(**df_order[['deliver_time',\n",
        "                            'deliver_estimate']]\n",
        "                .apply(pd.to_numeric)).corr(method='spearman')"
      ]
    },
    {
      "cell_type": "code",
      "execution_count": null,
      "id": "01f67455-06a1-485e-999f-cab1e9336b4d",
      "metadata": {
        "id": "01f67455-06a1-485e-999f-cab1e9336b4d"
      },
      "outputs": [],
      "source": [
        "(df_order\n",
        "     .assign(**df_order[['deliver_time','deliver_estimate']].astype('timedelta64[D]'))\n",
        "     .plot(kind='scatter',x='deliver_time',y='deliver_estimate')\n",
        ")"
      ]
    },
    {
      "cell_type": "markdown",
      "id": "283b32e2-ee57-48f2-8ac0-68e9affd1d93",
      "metadata": {
        "id": "283b32e2-ee57-48f2-8ac0-68e9affd1d93"
      },
      "source": [
        "Será que a aprovação da compra influencia o tempo de entrega? Para isso, vamos calcular o prazao de entrega após a aprovação."
      ]
    },
    {
      "cell_type": "code",
      "execution_count": null,
      "id": "cf2ea55a-29fe-43d7-a64f-ce8e6433ec35",
      "metadata": {
        "id": "cf2ea55a-29fe-43d7-a64f-ce8e6433ec35"
      },
      "outputs": [],
      "source": [
        "df_order['deliver_after_approval_time'] = df_order['order_delivered_customer_date'] - df_order['order_approved_at']"
      ]
    },
    {
      "cell_type": "markdown",
      "id": "a5d73e7c-1bda-4bf6-a3ca-32e75887da9d",
      "metadata": {
        "id": "a5d73e7c-1bda-4bf6-a3ca-32e75887da9d"
      },
      "source": [
        "E vamos comparar o prazo de entrega desde a compra com o prazo da entrega após a aprovação:"
      ]
    },
    {
      "cell_type": "code",
      "execution_count": null,
      "id": "6e859c50-29d4-4e56-a086-358bd4609d17",
      "metadata": {
        "id": "6e859c50-29d4-4e56-a086-358bd4609d17"
      },
      "outputs": [],
      "source": [
        "df_order \\\n",
        "     .assign(**df_order[['deliver_time','deliver_after_approval_time']].astype('timedelta64[D]')) \\\n",
        "     .plot(kind='scatter',x='deliver_time',y='deliver_after_approval_time')\n"
      ]
    },
    {
      "cell_type": "markdown",
      "id": "eb8fb812-ca34-46b1-902b-f0d148197e01",
      "metadata": {
        "id": "eb8fb812-ca34-46b1-902b-f0d148197e01"
      },
      "source": [
        "Quanto tempo demora para a aprovação de uma compra? Vamos calcular a diferença entre a aprovação e a compra"
      ]
    },
    {
      "cell_type": "code",
      "execution_count": null,
      "id": "65002a1c-b6ab-4b77-b625-3d37e21f5eb1",
      "metadata": {
        "id": "65002a1c-b6ab-4b77-b625-3d37e21f5eb1"
      },
      "outputs": [],
      "source": [
        "df_order['approval_time'] = df_order['order_approved_at'] - df_order['order_purchase_timestamp']"
      ]
    },
    {
      "cell_type": "markdown",
      "id": "5d9a993c-5e4b-4f5c-99c2-b949cfc92a0e",
      "metadata": {
        "id": "5d9a993c-5e4b-4f5c-99c2-b949cfc92a0e"
      },
      "source": [
        "e visualizar a distribuição:"
      ]
    },
    {
      "cell_type": "code",
      "execution_count": null,
      "id": "d45ed51a-a842-4b0e-b0d7-975daee1824a",
      "metadata": {
        "id": "d45ed51a-a842-4b0e-b0d7-975daee1824a"
      },
      "outputs": [],
      "source": [
        "df_order['approval_time'].astype('timedelta64[D]').plot(kind='box')"
      ]
    },
    {
      "cell_type": "markdown",
      "id": "b7b9d877-747b-4101-8e29-7bb69249ced1",
      "metadata": {
        "id": "b7b9d877-747b-4101-8e29-7bb69249ced1"
      },
      "source": [
        "e vamos reanalisar o tempo de aprovação com o tempo de entrega:"
      ]
    },
    {
      "cell_type": "code",
      "execution_count": null,
      "id": "07fc2c12-3190-4eed-a7f9-bc135f859b5b",
      "metadata": {
        "id": "07fc2c12-3190-4eed-a7f9-bc135f859b5b"
      },
      "outputs": [],
      "source": [
        "df_order \\\n",
        "     .assign(**df_order[['deliver_time','approval_time']].astype('timedelta64[D]')) \\\n",
        "     .plot(kind='scatter',x='deliver_time',y='approval_time')"
      ]
    },
    {
      "cell_type": "markdown",
      "id": "9712a279-db29-4dc7-9257-baf5a0fc50ff",
      "metadata": {
        "id": "9712a279-db29-4dc7-9257-baf5a0fc50ff"
      },
      "source": [
        "## Itens dos pedidos\n",
        "\n",
        "Vamos agora olhar os itens que aparecem em cada pedido. Esses itens estão armazenados no arquivo `olist_order_items_dataset.csv`:"
      ]
    },
    {
      "cell_type": "code",
      "execution_count": null,
      "id": "37d0fef4-b9b1-4b12-a79b-102e66a732e9",
      "metadata": {
        "tags": [],
        "id": "37d0fef4-b9b1-4b12-a79b-102e66a732e9"
      },
      "outputs": [],
      "source": [
        "df_orderm_item = pd.read_csv(\"olist_order_items_dataset.csv\")"
      ]
    },
    {
      "cell_type": "code",
      "execution_count": null,
      "id": "58660e90-f522-4b6d-bfce-b390601bca7b",
      "metadata": {
        "id": "58660e90-f522-4b6d-bfce-b390601bca7b"
      },
      "outputs": [],
      "source": [
        "df_orderm_item.head()"
      ]
    },
    {
      "cell_type": "markdown",
      "id": "245c1707-2ff3-473f-b2af-2133c4276d4a",
      "metadata": {
        "id": "245c1707-2ff3-473f-b2af-2133c4276d4a"
      },
      "source": [
        "Os itens tem associado a data máxima para o envio. Vamos converter para o formato `datetime`"
      ]
    },
    {
      "cell_type": "code",
      "execution_count": null,
      "id": "d1e9a30c-c797-41b4-ae23-7a0840cffb32",
      "metadata": {
        "id": "d1e9a30c-c797-41b4-ae23-7a0840cffb32"
      },
      "outputs": [],
      "source": [
        "df_orderm_item['shipping_limit_date'] = pd.to_datetime(df_orderm_item['shipping_limit_date'])"
      ]
    },
    {
      "cell_type": "markdown",
      "id": "e8fd0856-fc70-4492-8e05-3950a2f4a351",
      "metadata": {
        "id": "e8fd0856-fc70-4492-8e05-3950a2f4a351"
      },
      "source": [
        "Quantos itens temos em cada compra? Como os itens do pedido são numerados, podemos pegar o `order_item_id` máximo de cada pedido como sendo o número de itens"
      ]
    },
    {
      "cell_type": "code",
      "execution_count": null,
      "id": "37c066d3-c926-4dc5-b5d8-e46ebe7f6a59",
      "metadata": {
        "id": "37c066d3-c926-4dc5-b5d8-e46ebe7f6a59"
      },
      "outputs": [],
      "source": [
        "df_orderm_item.groupby('order_id')['order_item_id'].max().value_counts()"
      ]
    },
    {
      "cell_type": "code",
      "execution_count": null,
      "id": "0d003700-3438-48ba-910f-51531a3826b6",
      "metadata": {
        "id": "0d003700-3438-48ba-910f-51531a3826b6"
      },
      "outputs": [],
      "source": [
        "df_orderm_item.groupby('order_id')['order_item_id'].max().value_counts().plot(kind='bar',logy=True)"
      ]
    },
    {
      "cell_type": "markdown",
      "id": "678ed1b9-5796-4962-9882-27251f1edfd6",
      "metadata": {
        "id": "678ed1b9-5796-4962-9882-27251f1edfd6"
      },
      "source": [
        "Quais os items mais comprados? Como a base está anonimizada, não sabemos qual é, mas podemos ver a frequência de compras desses itens:"
      ]
    },
    {
      "cell_type": "code",
      "execution_count": null,
      "id": "269a27b5-af1c-44cf-b8c3-093ccd14fb92",
      "metadata": {
        "id": "269a27b5-af1c-44cf-b8c3-093ccd14fb92"
      },
      "outputs": [],
      "source": [
        "df_orderm_item['product_id'].value_counts().head(30).plot(kind='bar')"
      ]
    },
    {
      "cell_type": "markdown",
      "id": "3c2d5683-57fb-49cc-b04a-e4b4694fe6ae",
      "metadata": {
        "id": "3c2d5683-57fb-49cc-b04a-e4b4694fe6ae"
      },
      "source": [
        "Quais vendedores vendem mais?"
      ]
    },
    {
      "cell_type": "code",
      "execution_count": null,
      "id": "0d962ec6-a946-4f7b-b2d2-16883ea7e821",
      "metadata": {
        "id": "0d962ec6-a946-4f7b-b2d2-16883ea7e821"
      },
      "outputs": [],
      "source": [
        "df_orderm_item['seller_id'].value_counts().head(30).plot(kind='bar')"
      ]
    },
    {
      "cell_type": "markdown",
      "id": "e9a7ba56-bc89-42e0-9fe7-f31a7c19adb5",
      "metadata": {
        "id": "e9a7ba56-bc89-42e0-9fe7-f31a7c19adb5"
      },
      "source": [
        "Como variam os preços dos itens?"
      ]
    },
    {
      "cell_type": "code",
      "execution_count": null,
      "id": "048859d0-3c2e-4241-9afb-cd2d41b9e40f",
      "metadata": {
        "id": "048859d0-3c2e-4241-9afb-cd2d41b9e40f"
      },
      "outputs": [],
      "source": [
        "df_orderm_item['price'].describe()"
      ]
    },
    {
      "cell_type": "code",
      "execution_count": null,
      "id": "7db6b41f-9c1c-4f10-8474-fdb109f7b418",
      "metadata": {
        "id": "7db6b41f-9c1c-4f10-8474-fdb109f7b418"
      },
      "outputs": [],
      "source": [
        "df_orderm_item['price'].plot(kind='hist',logx=True,density=True,bins=300)\n",
        "df_orderm_item['price'].plot(kind='kde', logx=True,xlim=[1,10000])"
      ]
    },
    {
      "cell_type": "markdown",
      "id": "30d58df0-61c6-413f-84b7-bf0ef0083be3",
      "metadata": {
        "id": "30d58df0-61c6-413f-84b7-bf0ef0083be3"
      },
      "source": [
        "E do frete?"
      ]
    },
    {
      "cell_type": "code",
      "execution_count": null,
      "id": "d39f18f8-94ae-4b78-af10-28e81360cc21",
      "metadata": {
        "id": "d39f18f8-94ae-4b78-af10-28e81360cc21"
      },
      "outputs": [],
      "source": [
        "df_orderm_item['freight_value'].plot(kind='hist',logx=True,density=True,bins=100)\n",
        "df_orderm_item['freight_value'].plot(kind='kde', logx=True,xlim=[1,10000])"
      ]
    },
    {
      "cell_type": "markdown",
      "id": "000ab0a7-2c1c-4bf0-ad3d-8f8eccf8d314",
      "metadata": {
        "id": "000ab0a7-2c1c-4bf0-ad3d-8f8eccf8d314"
      },
      "source": [
        "Agora vamos combinar dos dois conjuntos de dados. Podemos usar o número da ordem como o critério de junção dos dois conjuntos de dados."
      ]
    },
    {
      "cell_type": "code",
      "execution_count": null,
      "id": "e5259aed-c1dd-4177-9358-b2bce81b4a17",
      "metadata": {
        "id": "e5259aed-c1dd-4177-9358-b2bce81b4a17"
      },
      "outputs": [],
      "source": [
        "df = pd.merge(df_orderm_item, df_order, on = 'order_id')"
      ]
    },
    {
      "cell_type": "markdown",
      "id": "c9b62e83-3f0b-4f1e-92e4-22a4925d7d62",
      "metadata": {
        "id": "c9b62e83-3f0b-4f1e-92e4-22a4925d7d62"
      },
      "source": [
        "Uma vez que combinados as duas tabelas, podemos calcular o tempo calcular o tempo máximo de envio a partir da data da compra:"
      ]
    },
    {
      "cell_type": "code",
      "execution_count": null,
      "id": "c59b81df-98e2-417c-9c51-7da09dac682d",
      "metadata": {
        "id": "c59b81df-98e2-417c-9c51-7da09dac682d"
      },
      "outputs": [],
      "source": [
        "df['max_shipping_time'] = df['shipping_limit_date'] - df['order_purchase_timestamp']"
      ]
    },
    {
      "cell_type": "markdown",
      "id": "4d3d85f0-608b-4346-a629-75594a0a17f8",
      "metadata": {
        "id": "4d3d85f0-608b-4346-a629-75594a0a17f8"
      },
      "source": [
        "E observar a sua distribuição:"
      ]
    },
    {
      "cell_type": "code",
      "execution_count": null,
      "id": "ec907a85-4995-4282-beae-6a3f06d072b7",
      "metadata": {
        "id": "ec907a85-4995-4282-beae-6a3f06d072b7"
      },
      "outputs": [],
      "source": [
        "df['max_shipping_time'].astype('timedelta64[D]').plot(kind='box',logy=True)"
      ]
    },
    {
      "cell_type": "markdown",
      "id": "7483c0c1-deaf-4e48-a678-3636fb5981cf",
      "metadata": {
        "id": "7483c0c1-deaf-4e48-a678-3636fb5981cf"
      },
      "source": [
        "## Informação de produtos\n",
        "\n",
        "Vamos carregar a base de produtos para agregar mais informaçãoes às compras"
      ]
    },
    {
      "cell_type": "code",
      "execution_count": null,
      "id": "3fdeaa29-7298-4d40-8be6-b51dadc3702a",
      "metadata": {
        "id": "3fdeaa29-7298-4d40-8be6-b51dadc3702a"
      },
      "outputs": [],
      "source": [
        "df_products = pd.read_csv(\"olist_products_dataset.csv\")"
      ]
    },
    {
      "cell_type": "code",
      "execution_count": null,
      "id": "794b07c5-45ea-4849-a884-1768200a8a6f",
      "metadata": {
        "id": "794b07c5-45ea-4849-a884-1768200a8a6f"
      },
      "outputs": [],
      "source": [
        "df_products.head()"
      ]
    },
    {
      "cell_type": "markdown",
      "id": "eee67a00-ab6d-4c60-ac69-dc02bd6b4511",
      "metadata": {
        "id": "eee67a00-ab6d-4c60-ac69-dc02bd6b4511"
      },
      "source": [
        "Quais as categorias mais comuns?"
      ]
    },
    {
      "cell_type": "code",
      "execution_count": null,
      "id": "61918357-c2b6-4669-8185-a8259d455902",
      "metadata": {
        "id": "61918357-c2b6-4669-8185-a8259d455902"
      },
      "outputs": [],
      "source": [
        "df_products['product_category_name'].value_counts().plot(kind='barh',figsize=(5, 12))"
      ]
    },
    {
      "cell_type": "markdown",
      "id": "2b1745e3-0334-4f30-845c-dd4215ecad11",
      "metadata": {
        "id": "2b1745e3-0334-4f30-845c-dd4215ecad11"
      },
      "source": [
        "Vamos novamente agregar as informações dessa tabela no anterior, que contém os intens e ordens. Podemos usar como chave de unificação o `product_id`"
      ]
    },
    {
      "cell_type": "code",
      "execution_count": null,
      "id": "e017ab87-c14a-46bf-b378-73eb0b965015",
      "metadata": {
        "id": "e017ab87-c14a-46bf-b378-73eb0b965015"
      },
      "outputs": [],
      "source": [
        "df = pd.merge(df,df_products,on='product_id')"
      ]
    },
    {
      "cell_type": "markdown",
      "id": "b199adb0-5493-4a53-b4dd-a80f013421cf",
      "metadata": {
        "id": "b199adb0-5493-4a53-b4dd-a80f013421cf"
      },
      "source": [
        "Agora que fizemos a junção, podemos calcular as categorias mais compradas (antes, calculamos as categorias mais ofertadas)"
      ]
    },
    {
      "cell_type": "code",
      "execution_count": null,
      "id": "4c25f078-5c29-4151-ba49-b1c30ff77eb3",
      "metadata": {
        "id": "4c25f078-5c29-4151-ba49-b1c30ff77eb3"
      },
      "outputs": [],
      "source": [
        "df['product_category_name'].value_counts().plot(kind='barh',figsize=(5, 12))"
      ]
    },
    {
      "cell_type": "markdown",
      "id": "163f7d72-383d-46cb-9e3e-9d63e07910d4",
      "metadata": {
        "id": "163f7d72-383d-46cb-9e3e-9d63e07910d4"
      },
      "source": [
        "Há correlação entre as categorias ofertadas e as compradas?"
      ]
    },
    {
      "cell_type": "code",
      "execution_count": null,
      "id": "82ca86fc-c701-49a8-af58-ae6c8fc18786",
      "metadata": {
        "id": "82ca86fc-c701-49a8-af58-ae6c8fc18786"
      },
      "outputs": [],
      "source": [
        "df_products['product_category_name'].value_counts().corr(df['product_category_name'].value_counts())"
      ]
    },
    {
      "cell_type": "markdown",
      "id": "c5215790-2981-4094-8109-629d681bbbc1",
      "metadata": {
        "id": "c5215790-2981-4094-8109-629d681bbbc1"
      },
      "source": [
        "## Clientes e vendedores"
      ]
    },
    {
      "cell_type": "markdown",
      "id": "04f25da6-3065-439a-ac5f-a01d2ad495fe",
      "metadata": {
        "id": "04f25da6-3065-439a-ac5f-a01d2ad495fe"
      },
      "source": [
        "Vamos agora carregar as informações dos vendedores. Essa informação está na tabela `olist_sellers_dataset.csv`"
      ]
    },
    {
      "cell_type": "code",
      "execution_count": null,
      "id": "5a5e704c-5632-4f8f-9dda-90a5f8e87269",
      "metadata": {
        "id": "5a5e704c-5632-4f8f-9dda-90a5f8e87269"
      },
      "outputs": [],
      "source": [
        "df_sellers = pd.read_csv(\"olist_sellers_dataset.csv\")"
      ]
    },
    {
      "cell_type": "code",
      "execution_count": null,
      "id": "eace71c1-281c-420b-aa04-00c2fde9dc53",
      "metadata": {
        "id": "eace71c1-281c-420b-aa04-00c2fde9dc53"
      },
      "outputs": [],
      "source": [
        "df_sellers.head()"
      ]
    },
    {
      "cell_type": "markdown",
      "id": "4b102b2d-17e9-471f-9584-dcef839ec3c6",
      "metadata": {
        "id": "4b102b2d-17e9-471f-9584-dcef839ec3c6"
      },
      "source": [
        "Na próxima aula faremos uma análise melhor da distribuição geográfica. Neste momento, vamos ver a frequência dos estados dos vendedores"
      ]
    },
    {
      "cell_type": "code",
      "execution_count": null,
      "id": "f84493e9-236f-408d-92ff-be07c0e41eb0",
      "metadata": {
        "id": "f84493e9-236f-408d-92ff-be07c0e41eb0"
      },
      "outputs": [],
      "source": [
        "df_sellers['seller_state'].value_counts().plot(kind='barh',logx=True)"
      ]
    },
    {
      "cell_type": "markdown",
      "id": "7d64e93f-4da9-4aa7-9ada-009e3ba2a598",
      "metadata": {
        "id": "7d64e93f-4da9-4aa7-9ada-009e3ba2a598"
      },
      "source": [
        "E agora vamos carregar a tabela de consumidores. Essa tabela está no arquivo `olist_customers_dataset.csv`"
      ]
    },
    {
      "cell_type": "code",
      "execution_count": null,
      "id": "a7807b31-b9c5-4b9b-9333-d44d0b519a1e",
      "metadata": {
        "id": "a7807b31-b9c5-4b9b-9333-d44d0b519a1e"
      },
      "outputs": [],
      "source": [
        "df_customers = pd.read_csv(\"olist_customers_dataset.csv\")"
      ]
    },
    {
      "cell_type": "code",
      "execution_count": null,
      "id": "c2de829c-8f34-4a73-ab7b-0376f3f5b1c5",
      "metadata": {
        "id": "c2de829c-8f34-4a73-ab7b-0376f3f5b1c5"
      },
      "outputs": [],
      "source": [
        "df_customers['customer_state'].value_counts().plot(kind='barh',logx=True)"
      ]
    },
    {
      "cell_type": "markdown",
      "id": "693a8347-8a9d-4a35-8a69-4daff2c2ff80",
      "metadata": {
        "id": "693a8347-8a9d-4a35-8a69-4daff2c2ff80"
      },
      "source": [
        "Vamos agora incluir a informação de consumidores e vendedores na base de dados geral"
      ]
    },
    {
      "cell_type": "code",
      "execution_count": null,
      "id": "c3e7a77f-a5d1-48cc-8514-618bc16db229",
      "metadata": {
        "id": "c3e7a77f-a5d1-48cc-8514-618bc16db229"
      },
      "outputs": [],
      "source": [
        "df = pd.merge(df, df_sellers, on = 'seller_id')\n",
        "df = pd.merge(df, df_customers, on = 'customer_id')"
      ]
    },
    {
      "cell_type": "markdown",
      "id": "10bf363b-c06a-4437-a1fc-10124f6f2894",
      "metadata": {
        "id": "10bf363b-c06a-4437-a1fc-10124f6f2894"
      },
      "source": [
        "Existe uma correspondência entre o estado do vendedor e do comprador? Podemos fazer uma tabela com a frequência cruzada:"
      ]
    },
    {
      "cell_type": "code",
      "execution_count": null,
      "id": "1abcd46f-9949-4072-bb2a-4491d0edd8cb",
      "metadata": {
        "id": "1abcd46f-9949-4072-bb2a-4491d0edd8cb"
      },
      "outputs": [],
      "source": [
        "pd.crosstab(df['customer_state'],df['seller_state'])"
      ]
    },
    {
      "cell_type": "markdown",
      "id": "4babac83-94e9-4834-a651-77a5b943a8c4",
      "metadata": {
        "id": "4babac83-94e9-4834-a651-77a5b943a8c4"
      },
      "source": [
        "A tabela ficou um pouco grande, vamos selecionar os 10 estados com o maior número de compradores e vendedores."
      ]
    },
    {
      "cell_type": "code",
      "execution_count": null,
      "id": "b7c91165-a82f-4f53-8092-01fde345a44c",
      "metadata": {
        "id": "b7c91165-a82f-4f53-8092-01fde345a44c"
      },
      "outputs": [],
      "source": [
        "top_sellers_states = df['seller_state'].value_counts().head(10).keys()\n",
        "top_customer_states = df['customer_state'].value_counts().head(10).keys()"
      ]
    },
    {
      "cell_type": "markdown",
      "id": "6abe7066-8baa-40d2-a3de-0f44512c3149",
      "metadata": {
        "id": "6abe7066-8baa-40d2-a3de-0f44512c3149"
      },
      "source": [
        "E filtrar a tabela. Vamos ver também normalizado por linha:"
      ]
    },
    {
      "cell_type": "code",
      "execution_count": null,
      "id": "6e174d32-606b-4f2f-8700-974c47b35b7e",
      "metadata": {
        "id": "6e174d32-606b-4f2f-8700-974c47b35b7e"
      },
      "outputs": [],
      "source": [
        "table = pd.crosstab(df['customer_state'],df['seller_state'],normalize=0)\n",
        "\n",
        "table.style \\\n",
        "  .hide([row for row in table.index if row not in top_customer_states], axis=0) \\\n",
        "  .hide([col for col in table.columns if col not in top_sellers_states], axis=1) \\\n",
        "  .format(precision=3, thousands=\".\", decimal=\",\") \\\n",
        "  .background_gradient(axis=0,  cmap=\"YlGnBu\")"
      ]
    },
    {
      "cell_type": "markdown",
      "id": "d747d455-5240-4720-a952-d00e834342f8",
      "metadata": {
        "id": "d747d455-5240-4720-a952-d00e834342f8"
      },
      "source": [
        "Como o preço varia de acordo com o estado do vendedor?"
      ]
    },
    {
      "cell_type": "code",
      "execution_count": null,
      "id": "15b51f39-78ad-4d11-8ec9-74f050084abe",
      "metadata": {
        "id": "15b51f39-78ad-4d11-8ec9-74f050084abe"
      },
      "outputs": [],
      "source": [
        "df[['seller_state','price']].plot(kind='box', by= 'seller_state',logy=True)"
      ]
    },
    {
      "cell_type": "markdown",
      "id": "6ead4428-23ac-4ecb-b131-4d60e7af819f",
      "metadata": {
        "id": "6ead4428-23ac-4ecb-b131-4d60e7af819f"
      },
      "source": [
        "Como o frete varia com o estado de comprador?"
      ]
    },
    {
      "cell_type": "code",
      "execution_count": null,
      "id": "7e3fb604-782f-4780-9f82-0e25defeb45c",
      "metadata": {
        "id": "7e3fb604-782f-4780-9f82-0e25defeb45c"
      },
      "outputs": [],
      "source": [
        "df[['seller_state','freight_value']].plot(kind='box', by= 'seller_state',logy=True)"
      ]
    },
    {
      "cell_type": "markdown",
      "id": "c032d340-6202-47b8-81fc-ddf9eff3fa4e",
      "metadata": {
        "id": "c032d340-6202-47b8-81fc-ddf9eff3fa4e"
      },
      "source": [
        "## Distância entre o vendedor e o comprador\n",
        "\n",
        "O arquivo `olist_geolocation_dataset.csv` tem as coordenadas geográficas do prefixo do CEP:"
      ]
    },
    {
      "cell_type": "code",
      "execution_count": null,
      "id": "0a09b21a-0228-4e1c-ab0a-7d170428bddd",
      "metadata": {
        "id": "0a09b21a-0228-4e1c-ab0a-7d170428bddd"
      },
      "outputs": [],
      "source": [
        "df_geo = pd.read_csv('olist_geolocation_dataset.csv', index_col=0)"
      ]
    },
    {
      "cell_type": "code",
      "execution_count": null,
      "id": "6e53ecaf-9362-459b-a3f1-6e3997778c6c",
      "metadata": {
        "id": "6e53ecaf-9362-459b-a3f1-6e3997778c6c"
      },
      "outputs": [],
      "source": [
        "df_geo = df_geo.drop_duplicates()"
      ]
    },
    {
      "cell_type": "markdown",
      "id": "5e8e0a91-9c46-4fa6-80fd-a166e1ae742e",
      "metadata": {
        "id": "5e8e0a91-9c46-4fa6-80fd-a166e1ae742e"
      },
      "source": [
        "Vamos usar a função `geodesic` da biblioteca `geopy` para calcular a distância geográfica entre o vendedor e o comprador"
      ]
    },
    {
      "cell_type": "code",
      "execution_count": null,
      "id": "9c6ca2d4-0218-47b1-b5a8-585a8886884b",
      "metadata": {
        "id": "9c6ca2d4-0218-47b1-b5a8-585a8886884b"
      },
      "outputs": [],
      "source": [
        "def geo_dist_zip(seller_zip_code_prefix, customer_zip_code_prefix):\n",
        "    try:\n",
        "        coord_seller = list(df_geo.loc[seller_zip_code_prefix][['geolocation_lat','geolocation_lng']].mean())\n",
        "        coord_customer = list(df_geo.loc[customer_zip_code_prefix][['geolocation_lat','geolocation_lng']].mean())\n",
        "        return gp.geodesic(coord_seller,coord_customer).km\n",
        "    except:\n",
        "        return"
      ]
    },
    {
      "cell_type": "code",
      "execution_count": null,
      "id": "32e60eec-0b25-4fb2-9586-898dc569e213",
      "metadata": {
        "id": "32e60eec-0b25-4fb2-9586-898dc569e213"
      },
      "outputs": [],
      "source": [
        "df['distance'] = df.apply(lambda x: geo_dist_zip(x['seller_zip_code_prefix'],x['customer_zip_code_prefix']),axis=1)"
      ]
    },
    {
      "cell_type": "code",
      "execution_count": null,
      "id": "6f4da9a9-dfe1-411d-8164-8866d56aa207",
      "metadata": {
        "id": "6f4da9a9-dfe1-411d-8164-8866d56aa207"
      },
      "outputs": [],
      "source": [
        "df['distance'].describe()"
      ]
    },
    {
      "cell_type": "code",
      "execution_count": null,
      "id": "ccf828cd-0283-405f-ac39-c07f7fbaf23d",
      "metadata": {
        "id": "ccf828cd-0283-405f-ac39-c07f7fbaf23d"
      },
      "outputs": [],
      "source": [
        "df['distance'].plot(kind='hist',logx=True,density=True,bins=100)\n",
        "df['distance'].plot(kind='kde', logx=True,xlim=[1,5000])"
      ]
    },
    {
      "cell_type": "markdown",
      "id": "f5a0bd00-bd2b-4018-ab4b-a12506be0c64",
      "metadata": {
        "id": "f5a0bd00-bd2b-4018-ab4b-a12506be0c64"
      },
      "source": [
        "A distância e o valor do frete estão correlacionados?"
      ]
    },
    {
      "cell_type": "code",
      "execution_count": null,
      "id": "dc908e28-0e51-4cb0-9f25-0b5586973080",
      "metadata": {
        "id": "dc908e28-0e51-4cb0-9f25-0b5586973080"
      },
      "outputs": [],
      "source": [
        "df.plot(kind='scatter', x='distance', y='freight_value')"
      ]
    },
    {
      "cell_type": "code",
      "execution_count": null,
      "id": "4aa39ab6-1ef1-45a9-892f-0d027a8582ff",
      "metadata": {
        "id": "4aa39ab6-1ef1-45a9-892f-0d027a8582ff"
      },
      "outputs": [],
      "source": [
        "df[['distance', 'freight_value']].corr()"
      ]
    },
    {
      "cell_type": "code",
      "execution_count": null,
      "id": "c802a2ae-b9a1-4e32-904c-3b9b4438b86f",
      "metadata": {
        "id": "c802a2ae-b9a1-4e32-904c-3b9b4438b86f"
      },
      "outputs": [],
      "source": []
    }
  ],
  "metadata": {
    "kernelspec": {
      "display_name": "Python 3 (ipykernel)",
      "language": "python",
      "name": "python3"
    },
    "language_info": {
      "codemirror_mode": {
        "name": "ipython",
        "version": 3
      },
      "file_extension": ".py",
      "mimetype": "text/x-python",
      "name": "python",
      "nbconvert_exporter": "python",
      "pygments_lexer": "ipython3",
      "version": "3.9.13"
    },
    "colab": {
      "provenance": [],
      "include_colab_link": true
    }
  },
  "nbformat": 4,
  "nbformat_minor": 5
}